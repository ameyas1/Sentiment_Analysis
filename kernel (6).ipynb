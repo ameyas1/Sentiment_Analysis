{
  "cells": [
    {
      "metadata": {
        "_uuid": "8f2839f25d086af736a60e9eeb907d3b93b6e0e5",
        "_cell_guid": "b1076dfc-b9ad-4769-8c92-a6c4dae69d19",
        "trusted": true
      },
      "cell_type": "code",
      "source": "# This Python 3 environment comes with many helpful analytics libraries installed\n# It is defined by the kaggle/python docker image: https://github.com/kaggle/docker-python\n# For example, here's several helpful packages to load in \n\nimport numpy as np # linear algebra\nimport pandas as pd # data processing, CSV file I/O (e.g. pd.read_csv)\n\n# Input data files are available in the \"../input/\" directory.\n# For example, running this (by clicking run or pressing Shift+Enter) will list the files in the input directory\n\nimport os\nprint(os.listdir(\"../input\"))\n\n# Any results you write to the current directory are saved as output.",
      "execution_count": null,
      "outputs": []
    },
    {
      "metadata": {
        "_cell_guid": "79c7e3d0-c299-4dcb-8224-4455121ee9b0",
        "_uuid": "d629ff2d2480ee46fbb7e2d37f6b5fab8052498a",
        "trusted": true
      },
      "cell_type": "code",
      "source": "import keras\nimport tensorflow as tf\nimport pandas as pd\nimport numpy as np\nimport seaborn as sns\nimport matplotlib.pyplot as plt\n%matplotlib inline",
      "execution_count": 1,
      "outputs": [
        {
          "output_type": "stream",
          "text": "Using TensorFlow backend.\n",
          "name": "stderr"
        }
      ]
    },
    {
      "metadata": {
        "trusted": true,
        "_uuid": "91a167bdf1fc4eb60a4d99d80c80531b7f052645"
      },
      "cell_type": "code",
      "source": "import pandas as pd\n\n\ndf = pd.read_csv('../input/training.1600000.processed.noemoticon.csv',engine='python',header=None)",
      "execution_count": 2,
      "outputs": []
    },
    {
      "metadata": {
        "trusted": true,
        "_uuid": "9806d57e4926e20d198b5185697faba799d98cc0"
      },
      "cell_type": "code",
      "source": "df.columns=['target','id','date','flag','user','text']\ndf = df.sample(frac=1).reset_index(drop=True)",
      "execution_count": 3,
      "outputs": []
    },
    {
      "metadata": {
        "trusted": true,
        "_uuid": "18b88e58de6dd3a8fc91474cbc6cc990604cd059"
      },
      "cell_type": "code",
      "source": "df_n = pd.get_dummies(df['target'])\n",
      "execution_count": 4,
      "outputs": []
    },
    {
      "metadata": {
        "trusted": true,
        "_uuid": "b5bac6805c23f08f32bd9437ca6a23255f530017"
      },
      "cell_type": "code",
      "source": "df=df.drop(axis=1,labels='target')\n",
      "execution_count": 5,
      "outputs": []
    },
    {
      "metadata": {
        "trusted": true,
        "_uuid": "d6dd5d6270245d13aad3f0c1eef6f1b89dfef63f"
      },
      "cell_type": "code",
      "source": "df['positive']=df_n[4]\n\n",
      "execution_count": 6,
      "outputs": []
    },
    {
      "metadata": {
        "trusted": true,
        "_uuid": "c4b538108043166cf57877950aefbfe56f18e4c7"
      },
      "cell_type": "code",
      "source": "import re\nfrom nltk.corpus import stopwords\nfrom nltk.stem.snowball import SnowballStemmer\ncorpus=[]\nps=SnowballStemmer('english')\nfor i in range(df.shape[0]):\n  review=re.sub('[^a-zA-Z]',' ',df['text'][i])\n  review=review.lower()\n  review=review.split()\n  review=[ps.stem(word) for word in review if not word in set(stopwords.words('english'))]\n  review=' '.join(review)\n  corpus.append(review)",
      "execution_count": 7,
      "outputs": []
    },
    {
      "metadata": {
        "trusted": true,
        "_uuid": "e9524192664dc209b7c9b0b1f8556b174bfd387e"
      },
      "cell_type": "code",
      "source": "from sklearn.feature_extraction.text import TfidfVectorizer\nv = TfidfVectorizer(max_features=650)\n",
      "execution_count": 8,
      "outputs": []
    },
    {
      "metadata": {
        "trusted": true,
        "_uuid": "4dae9fe4ba02d835dd48737854ca95e0118f583d"
      },
      "cell_type": "code",
      "source": "x=v.fit_transform(corpus).toarray()",
      "execution_count": 9,
      "outputs": []
    },
    {
      "metadata": {
        "trusted": true,
        "_uuid": "a1cfab127b114ee9d01691d92518e74c2baf2099"
      },
      "cell_type": "code",
      "source": "x_train=x[:1300000,:]\ny_train=df.iloc[:1300000,-1].values\nx_test=x[130000:,:]\ny_test=df.iloc[130000:,-1].values\n",
      "execution_count": 11,
      "outputs": []
    },
    {
      "metadata": {
        "trusted": true,
        "_uuid": "7220767c030e1b3783e50b7d830e86a803b58d7f"
      },
      "cell_type": "code",
      "source": "from keras.models import Sequential\nfrom keras.layers import Dense",
      "execution_count": 12,
      "outputs": []
    },
    {
      "metadata": {
        "trusted": true,
        "_uuid": "fef6c6b72fb2ebcc39eee47aededf6423630ac43"
      },
      "cell_type": "code",
      "source": "classifier=Sequential()",
      "execution_count": 13,
      "outputs": []
    },
    {
      "metadata": {
        "trusted": true,
        "_uuid": "698d6d32d8b03af78cea2bf4e28d2bcbd44d8e1f"
      },
      "cell_type": "code",
      "source": "classifier.add(Dense(output_dim=300,init='uniform',activation='relu',input_shape=(650,)))",
      "execution_count": 14,
      "outputs": [
        {
          "output_type": "stream",
          "text": "/opt/conda/lib/python3.6/site-packages/ipykernel_launcher.py:1: UserWarning: Update your `Dense` call to the Keras 2 API: `Dense(activation=\"relu\", input_shape=(650,), units=300, kernel_initializer=\"uniform\")`\n  \"\"\"Entry point for launching an IPython kernel.\n",
          "name": "stderr"
        }
      ]
    },
    {
      "metadata": {
        "trusted": true,
        "_uuid": "14070c23a2690153f776b67644d2384d54022841"
      },
      "cell_type": "code",
      "source": "classifier.add(Dense(output_dim=200,init='uniform',activation='relu'))",
      "execution_count": 15,
      "outputs": [
        {
          "output_type": "stream",
          "text": "/opt/conda/lib/python3.6/site-packages/ipykernel_launcher.py:1: UserWarning: Update your `Dense` call to the Keras 2 API: `Dense(activation=\"relu\", units=200, kernel_initializer=\"uniform\")`\n  \"\"\"Entry point for launching an IPython kernel.\n",
          "name": "stderr"
        }
      ]
    },
    {
      "metadata": {
        "trusted": true,
        "_uuid": "24974c3589604451efa797117bdabb2e6f27ca51"
      },
      "cell_type": "code",
      "source": "classifier.add(Dense(output_dim=100,init='uniform',activation='relu'))",
      "execution_count": 16,
      "outputs": [
        {
          "output_type": "stream",
          "text": "/opt/conda/lib/python3.6/site-packages/ipykernel_launcher.py:1: UserWarning: Update your `Dense` call to the Keras 2 API: `Dense(activation=\"relu\", units=100, kernel_initializer=\"uniform\")`\n  \"\"\"Entry point for launching an IPython kernel.\n",
          "name": "stderr"
        }
      ]
    },
    {
      "metadata": {
        "trusted": true,
        "_uuid": "3248b71acc2a31a0227531eb5c58cc9da2b016d0"
      },
      "cell_type": "code",
      "source": "classifier.add(Dense(output_dim=20,init='uniform',activation='relu'))",
      "execution_count": 17,
      "outputs": [
        {
          "output_type": "stream",
          "text": "/opt/conda/lib/python3.6/site-packages/ipykernel_launcher.py:1: UserWarning: Update your `Dense` call to the Keras 2 API: `Dense(activation=\"relu\", units=20, kernel_initializer=\"uniform\")`\n  \"\"\"Entry point for launching an IPython kernel.\n",
          "name": "stderr"
        }
      ]
    },
    {
      "metadata": {
        "trusted": true,
        "_uuid": "51d1962da3a948d505a0a6e717bf01d42fa3390c"
      },
      "cell_type": "code",
      "source": "classifier.add(Dense(output_dim=1,init='uniform',activation='sigmoid'))",
      "execution_count": 18,
      "outputs": [
        {
          "output_type": "stream",
          "text": "/opt/conda/lib/python3.6/site-packages/ipykernel_launcher.py:1: UserWarning: Update your `Dense` call to the Keras 2 API: `Dense(activation=\"sigmoid\", units=1, kernel_initializer=\"uniform\")`\n  \"\"\"Entry point for launching an IPython kernel.\n",
          "name": "stderr"
        }
      ]
    },
    {
      "metadata": {
        "trusted": true,
        "_uuid": "352c05bfceef1cc4f08c2ff310cea054ecd58a23"
      },
      "cell_type": "code",
      "source": "classifier.compile(optimizer='adam',loss='binary_crossentropy',metrics=['accuracy'])",
      "execution_count": 19,
      "outputs": []
    },
    {
      "metadata": {
        "trusted": true,
        "_uuid": "85a5a72e76096c9b9b1c2cc7966d52df069b2330"
      },
      "cell_type": "code",
      "source": "classifier.fit(x_train,y_train,batch_size=32500,nb_epoch=30)",
      "execution_count": 21,
      "outputs": [
        {
          "output_type": "stream",
          "text": "/opt/conda/lib/python3.6/site-packages/ipykernel_launcher.py:1: UserWarning: The `nb_epoch` argument in `fit` has been renamed `epochs`.\n  \"\"\"Entry point for launching an IPython kernel.\n",
          "name": "stderr"
        },
        {
          "output_type": "stream",
          "text": "Epoch 1/30\n1300000/1300000 [==============================] - 33s 26us/step - loss: 0.6813 - acc: 0.6265\nEpoch 2/30\n1300000/1300000 [==============================] - 33s 26us/step - loss: 0.5340 - acc: 0.7319\nEpoch 3/30\n1300000/1300000 [==============================] - 33s 25us/step - loss: 0.5221 - acc: 0.7353\nEpoch 4/30\n1300000/1300000 [==============================] - 33s 25us/step - loss: 0.5195 - acc: 0.7369\nEpoch 5/30\n1300000/1300000 [==============================] - 33s 25us/step - loss: 0.5161 - acc: 0.7390\nEpoch 6/30\n1300000/1300000 [==============================] - 33s 25us/step - loss: 0.5115 - acc: 0.7420\nEpoch 7/30\n1300000/1300000 [==============================] - 33s 25us/step - loss: 0.5064 - acc: 0.7453\nEpoch 8/30\n1300000/1300000 [==============================] - 34s 26us/step - loss: 0.5019 - acc: 0.7486\nEpoch 9/30\n1300000/1300000 [==============================] - 33s 25us/step - loss: 0.4976 - acc: 0.7518\nEpoch 10/30\n1300000/1300000 [==============================] - 33s 25us/step - loss: 0.4936 - acc: 0.7542\nEpoch 11/30\n1300000/1300000 [==============================] - 33s 26us/step - loss: 0.4904 - acc: 0.7562\nEpoch 12/30\n1300000/1300000 [==============================] - 33s 25us/step - loss: 0.4877 - acc: 0.7581\nEpoch 13/30\n1300000/1300000 [==============================] - 33s 25us/step - loss: 0.4841 - acc: 0.7604\nEpoch 14/30\n1300000/1300000 [==============================] - 33s 25us/step - loss: 0.4812 - acc: 0.7623\nEpoch 15/30\n1300000/1300000 [==============================] - 33s 25us/step - loss: 0.4793 - acc: 0.7634\nEpoch 16/30\n1300000/1300000 [==============================] - 33s 25us/step - loss: 0.4763 - acc: 0.7656\nEpoch 17/30\n1300000/1300000 [==============================] - 33s 25us/step - loss: 0.4745 - acc: 0.7669\nEpoch 18/30\n1300000/1300000 [==============================] - 34s 26us/step - loss: 0.4720 - acc: 0.7683\nEpoch 19/30\n1300000/1300000 [==============================] - 33s 25us/step - loss: 0.4696 - acc: 0.7700\nEpoch 20/30\n1300000/1300000 [==============================] - 33s 25us/step - loss: 0.4674 - acc: 0.7712\nEpoch 21/30\n1300000/1300000 [==============================] - 33s 26us/step - loss: 0.4654 - acc: 0.7727\nEpoch 22/30\n1300000/1300000 [==============================] - 33s 25us/step - loss: 0.4638 - acc: 0.7737\nEpoch 23/30\n1300000/1300000 [==============================] - 33s 25us/step - loss: 0.4611 - acc: 0.7754\nEpoch 24/30\n1300000/1300000 [==============================] - 33s 25us/step - loss: 0.4594 - acc: 0.7764\nEpoch 25/30\n1300000/1300000 [==============================] - 33s 25us/step - loss: 0.4575 - acc: 0.7775\nEpoch 26/30\n1300000/1300000 [==============================] - 33s 25us/step - loss: 0.4561 - acc: 0.7783\nEpoch 27/30\n1300000/1300000 [==============================] - 33s 26us/step - loss: 0.4545 - acc: 0.7794\nEpoch 28/30\n1300000/1300000 [==============================] - 33s 25us/step - loss: 0.4522 - acc: 0.7809\nEpoch 29/30\n1300000/1300000 [==============================] - 33s 25us/step - loss: 0.4501 - acc: 0.7818\nEpoch 30/30\n1300000/1300000 [==============================] - 33s 26us/step - loss: 0.4489 - acc: 0.7828\n",
          "name": "stdout"
        },
        {
          "output_type": "execute_result",
          "execution_count": 21,
          "data": {
            "text/plain": "<keras.callbacks.History at 0x7fb56ef8a4e0>"
          },
          "metadata": {}
        }
      ]
    },
    {
      "metadata": {
        "trusted": true,
        "_uuid": "45c25e4bd9d263d50416564e2eaedfaad625a4b5"
      },
      "cell_type": "code",
      "source": "y_pred=classifier.predict(x_test)",
      "execution_count": 23,
      "outputs": []
    },
    {
      "metadata": {
        "trusted": true,
        "_uuid": "e0bf3236fbce9c4af7fdb5b81b97893ac4990c6b"
      },
      "cell_type": "code",
      "source": "pred=(y_pred>0.5)",
      "execution_count": 24,
      "outputs": []
    },
    {
      "metadata": {
        "trusted": true,
        "_uuid": "590a97d9a8e54c9636c1e18edbb0a5bea2ce6a38"
      },
      "cell_type": "code",
      "source": "from sklearn.metrics import confusion_matrix,classification_report\nprint(confusion_matrix(y_test, pred))\nprint('\\n')\nprint(classification_report(y_test, pred))",
      "execution_count": null,
      "outputs": []
    },
    {
      "metadata": {
        "trusted": true,
        "_uuid": "4eb6b745c2b964e9d1a3da64787b3df4c341f332"
      },
      "cell_type": "code",
      "source": "",
      "execution_count": null,
      "outputs": []
    }
  ],
  "metadata": {
    "kernelspec": {
      "display_name": "Python 3",
      "language": "python",
      "name": "python3"
    },
    "language_info": {
      "name": "python",
      "version": "3.6.6",
      "mimetype": "text/x-python",
      "codemirror_mode": {
        "name": "ipython",
        "version": 3
      },
      "pygments_lexer": "ipython3",
      "nbconvert_exporter": "python",
      "file_extension": ".py"
    }
  },
  "nbformat": 4,
  "nbformat_minor": 1
}