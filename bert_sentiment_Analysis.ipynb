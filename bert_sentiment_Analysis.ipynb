{
  "nbformat": 4,
  "nbformat_minor": 0,
  "metadata": {
    "colab": {
      "name": "bert",
      "provenance": [],
      "mount_file_id": "1B7iN7cRd6zEuzT-rywcowt8xdfXG1iRl",
      "authorship_tag": "ABX9TyPl1QO0abt2OmI3+fpW2mZe",
      "include_colab_link": true
    },
    "kernelspec": {
      "name": "python3",
      "display_name": "Python 3"
    },
    "accelerator": "GPU"
  },
  "cells": [
    {
      "cell_type": "markdown",
      "metadata": {
        "id": "view-in-github",
        "colab_type": "text"
      },
      "source": [
        "<a href=\"https://colab.research.google.com/github/ameyas1/Sentiment_Analysis/blob/master/bert_sentiment_Analysis.ipynb\" target=\"_parent\"><img src=\"https://colab.research.google.com/assets/colab-badge.svg\" alt=\"Open In Colab\"/></a>"
      ]
    },
    {
      "cell_type": "markdown",
      "metadata": {
        "id": "1i-1q6i8uuqe",
        "colab_type": "text"
      },
      "source": [
        "**Download Dataset From Kaggle**"
      ]
    },
    {
      "cell_type": "code",
      "metadata": {
        "id": "jzNN3ZMg3N-Z",
        "colab_type": "code",
        "colab": {
          "base_uri": "https://localhost:8080/",
          "height": 34
        },
        "outputId": "cc175f5e-5b6f-48e6-8a3a-b5d60fbf231b"
      },
      "source": [
        "!pip install -q kaggle\n",
        "!mkdir -p ~/.kaggle\n",
        "!cp /content/kaggle.json ~/.kaggle/\n",
        "!ls ~/.kaggle\n",
        "!chmod 600 /root/.kaggle/kaggle.json"
      ],
      "execution_count": 1,
      "outputs": [
        {
          "output_type": "stream",
          "text": [
            "kaggle.json\n"
          ],
          "name": "stdout"
        }
      ]
    },
    {
      "cell_type": "code",
      "metadata": {
        "id": "BS2e4sab35QH",
        "colab_type": "code",
        "colab": {
          "base_uri": "https://localhost:8080/",
          "height": 68
        },
        "outputId": "178ba34e-9567-4250-8eb2-bcee2515e65e"
      },
      "source": [
        "!kaggle datasets download -d kazanova/sentiment140"
      ],
      "execution_count": 2,
      "outputs": [
        {
          "output_type": "stream",
          "text": [
            "Downloading sentiment140.zip to /content\n",
            "\r  0% 0.00/80.9M [00:00<?, ?B/s]\r 12% 10.0M/80.9M [00:00<00:00, 98.6MB/s]\r 47% 38.0M/80.9M [00:00<00:00, 123MB/s] \r 69% 56.0M/80.9M [00:00<00:00, 137MB/s]\n",
            "\r100% 80.9M/80.9M [00:00<00:00, 205MB/s]\n"
          ],
          "name": "stdout"
        }
      ]
    },
    {
      "cell_type": "code",
      "metadata": {
        "id": "zMdOQx-W5BqU",
        "colab_type": "code",
        "colab": {
          "base_uri": "https://localhost:8080/",
          "height": 51
        },
        "outputId": "98aa3035-06b5-48d4-f883-1669a46b6acf"
      },
      "source": [
        "!unzip /content/sentiment140.zip"
      ],
      "execution_count": 3,
      "outputs": [
        {
          "output_type": "stream",
          "text": [
            "Archive:  /content/sentiment140.zip\n",
            "  inflating: training.1600000.processed.noemoticon.csv  \n"
          ],
          "name": "stdout"
        }
      ]
    },
    {
      "cell_type": "code",
      "metadata": {
        "id": "EpsnlP_h6GCO",
        "colab_type": "code",
        "colab": {
          "base_uri": "https://localhost:8080/",
          "height": 417
        },
        "outputId": "9e73cd8d-86f3-41ef-f770-3f8215148858"
      },
      "source": [
        "!pip install bert-for-tf2"
      ],
      "execution_count": 4,
      "outputs": [
        {
          "output_type": "stream",
          "text": [
            "Collecting bert-for-tf2\n",
            "\u001b[?25l  Downloading https://files.pythonhosted.org/packages/35/5c/6439134ecd17b33fe0396fb0b7d6ce3c5a120c42a4516ba0e9a2d6e43b25/bert-for-tf2-0.14.4.tar.gz (40kB)\n",
            "\r\u001b[K     |████████                        | 10kB 29.3MB/s eta 0:00:01\r\u001b[K     |████████████████▏               | 20kB 32.8MB/s eta 0:00:01\r\u001b[K     |████████████████████████▎       | 30kB 37.8MB/s eta 0:00:01\r\u001b[K     |████████████████████████████████| 40kB 5.9MB/s \n",
            "\u001b[?25hCollecting py-params>=0.9.6\n",
            "  Downloading https://files.pythonhosted.org/packages/a4/bf/c1c70d5315a8677310ea10a41cfc41c5970d9b37c31f9c90d4ab98021fd1/py-params-0.9.7.tar.gz\n",
            "Collecting params-flow>=0.8.0\n",
            "  Downloading https://files.pythonhosted.org/packages/a9/95/ff49f5ebd501f142a6f0aaf42bcfd1c192dc54909d1d9eb84ab031d46056/params-flow-0.8.2.tar.gz\n",
            "Requirement already satisfied: numpy in /usr/local/lib/python3.6/dist-packages (from params-flow>=0.8.0->bert-for-tf2) (1.18.5)\n",
            "Requirement already satisfied: tqdm in /usr/local/lib/python3.6/dist-packages (from params-flow>=0.8.0->bert-for-tf2) (4.41.1)\n",
            "Building wheels for collected packages: bert-for-tf2, py-params, params-flow\n",
            "  Building wheel for bert-for-tf2 (setup.py) ... \u001b[?25l\u001b[?25hdone\n",
            "  Created wheel for bert-for-tf2: filename=bert_for_tf2-0.14.4-cp36-none-any.whl size=30114 sha256=f4120568d0048fcfad8cf93ebecc09cca9330f7128bf30203172963ff61793be\n",
            "  Stored in directory: /root/.cache/pip/wheels/cf/3f/4d/79d7735015a5f523648df90d871ce8e89a7df8185f7703eeab\n",
            "  Building wheel for py-params (setup.py) ... \u001b[?25l\u001b[?25hdone\n",
            "  Created wheel for py-params: filename=py_params-0.9.7-cp36-none-any.whl size=7302 sha256=dfa93ea16dacf7ea1190b94609542cd62a8f6319698927495bdfdbc5876e8af4\n",
            "  Stored in directory: /root/.cache/pip/wheels/67/f5/19/b461849a50aefdf4bab47c4756596e82ee2118b8278e5a1980\n",
            "  Building wheel for params-flow (setup.py) ... \u001b[?25l\u001b[?25hdone\n",
            "  Created wheel for params-flow: filename=params_flow-0.8.2-cp36-none-any.whl size=19473 sha256=dc8b5ad053d8cd2f3feaa1b624a78d25b7e4f8aa7f2a15b9433026325c3e2345\n",
            "  Stored in directory: /root/.cache/pip/wheels/08/c8/7f/81c86b9ff2b86e2c477e3914175be03e679e596067dc630c06\n",
            "Successfully built bert-for-tf2 py-params params-flow\n",
            "Installing collected packages: py-params, params-flow, bert-for-tf2\n",
            "Successfully installed bert-for-tf2-0.14.4 params-flow-0.8.2 py-params-0.9.7\n"
          ],
          "name": "stdout"
        }
      ]
    },
    {
      "cell_type": "code",
      "metadata": {
        "id": "ZAIuX3N857dr",
        "colab_type": "code",
        "colab": {}
      },
      "source": [
        "import numpy as np \n",
        "import pandas as pd\n",
        "import bert\n",
        "from tensorflow.keras.models import Model       # Keras is the new high level API for TensorFlow\n",
        "import math\n",
        "import tensorflow as tf\n",
        "import tensorflow_hub as hub\n"
      ],
      "execution_count": 5,
      "outputs": []
    },
    {
      "cell_type": "code",
      "metadata": {
        "id": "hpdA2eL_6N4G",
        "colab_type": "code",
        "colab": {}
      },
      "source": [
        "FullTokenizer = bert.bert_tokenization.FullTokenizer"
      ],
      "execution_count": 6,
      "outputs": []
    },
    {
      "cell_type": "code",
      "metadata": {
        "id": "1QNpj1Jj6QkQ",
        "colab_type": "code",
        "colab": {}
      },
      "source": [
        "max_seq_length = 128  # Your choice here.\n",
        "# input_word_ids = tf.keras.layers.Input(shape=(max_seq_length,), dtype=tf.int32,\n",
        "#                                        name=\"input_word_ids\")\n",
        "# input_mask = tf.keras.layers.Input(shape=(max_seq_length,), dtype=tf.int32,\n",
        "#                                    name=\"input_mask\")\n",
        "# segment_ids = tf.keras.layers.Input(shape=(max_seq_length,), dtype=tf.int32,\n",
        "#                                     name=\"segment_ids\")\n",
        "bert_layer = hub.KerasLayer(\"https://tfhub.dev/tensorflow/bert_en_uncased_L-12_H-768_A-12/2\",\n",
        "                            trainable=True)\n",
        "# pooled_output, sequence_output = bert_layer([input_word_ids, input_mask, segment_ids])"
      ],
      "execution_count": 7,
      "outputs": []
    },
    {
      "cell_type": "code",
      "metadata": {
        "id": "Chjlky6v6UP3",
        "colab_type": "code",
        "colab": {}
      },
      "source": [
        "# model = Model(inputs=[input_word_ids, input_mask, segment_ids], outputs=[pooled_output, sequence_output])"
      ],
      "execution_count": 8,
      "outputs": []
    },
    {
      "cell_type": "code",
      "metadata": {
        "id": "JrCzGqym6X3L",
        "colab_type": "code",
        "colab": {}
      },
      "source": [
        "vocab_file = bert_layer.resolved_object.vocab_file.asset_path.numpy()\n",
        "do_lower_case = bert_layer.resolved_object.do_lower_case.numpy()\n",
        "tokenizer = FullTokenizer(vocab_file, do_lower_case)"
      ],
      "execution_count": 9,
      "outputs": []
    },
    {
      "cell_type": "markdown",
      "metadata": {
        "id": "GTQKPKr4u3mX",
        "colab_type": "text"
      },
      "source": [
        "**Preprocess**"
      ]
    },
    {
      "cell_type": "code",
      "metadata": {
        "id": "yaHiXUIJ6aOX",
        "colab_type": "code",
        "colab": {}
      },
      "source": [
        "df=pd.read_csv(\"/content/training.1600000.processed.noemoticon.csv\", encoding='latin-1', header=None)"
      ],
      "execution_count": 10,
      "outputs": []
    },
    {
      "cell_type": "code",
      "metadata": {
        "id": "u8FQgh926dXf",
        "colab_type": "code",
        "colab": {
          "base_uri": "https://localhost:8080/",
          "height": 204
        },
        "outputId": "04c52d0b-5952-4f3e-8c67-ea6fbc524fcd"
      },
      "source": [
        "df.head()"
      ],
      "execution_count": 11,
      "outputs": [
        {
          "output_type": "execute_result",
          "data": {
            "text/html": [
              "<div>\n",
              "<style scoped>\n",
              "    .dataframe tbody tr th:only-of-type {\n",
              "        vertical-align: middle;\n",
              "    }\n",
              "\n",
              "    .dataframe tbody tr th {\n",
              "        vertical-align: top;\n",
              "    }\n",
              "\n",
              "    .dataframe thead th {\n",
              "        text-align: right;\n",
              "    }\n",
              "</style>\n",
              "<table border=\"1\" class=\"dataframe\">\n",
              "  <thead>\n",
              "    <tr style=\"text-align: right;\">\n",
              "      <th></th>\n",
              "      <th>0</th>\n",
              "      <th>1</th>\n",
              "      <th>2</th>\n",
              "      <th>3</th>\n",
              "      <th>4</th>\n",
              "      <th>5</th>\n",
              "    </tr>\n",
              "  </thead>\n",
              "  <tbody>\n",
              "    <tr>\n",
              "      <th>0</th>\n",
              "      <td>0</td>\n",
              "      <td>1467810369</td>\n",
              "      <td>Mon Apr 06 22:19:45 PDT 2009</td>\n",
              "      <td>NO_QUERY</td>\n",
              "      <td>_TheSpecialOne_</td>\n",
              "      <td>@switchfoot http://twitpic.com/2y1zl - Awww, t...</td>\n",
              "    </tr>\n",
              "    <tr>\n",
              "      <th>1</th>\n",
              "      <td>0</td>\n",
              "      <td>1467810672</td>\n",
              "      <td>Mon Apr 06 22:19:49 PDT 2009</td>\n",
              "      <td>NO_QUERY</td>\n",
              "      <td>scotthamilton</td>\n",
              "      <td>is upset that he can't update his Facebook by ...</td>\n",
              "    </tr>\n",
              "    <tr>\n",
              "      <th>2</th>\n",
              "      <td>0</td>\n",
              "      <td>1467810917</td>\n",
              "      <td>Mon Apr 06 22:19:53 PDT 2009</td>\n",
              "      <td>NO_QUERY</td>\n",
              "      <td>mattycus</td>\n",
              "      <td>@Kenichan I dived many times for the ball. Man...</td>\n",
              "    </tr>\n",
              "    <tr>\n",
              "      <th>3</th>\n",
              "      <td>0</td>\n",
              "      <td>1467811184</td>\n",
              "      <td>Mon Apr 06 22:19:57 PDT 2009</td>\n",
              "      <td>NO_QUERY</td>\n",
              "      <td>ElleCTF</td>\n",
              "      <td>my whole body feels itchy and like its on fire</td>\n",
              "    </tr>\n",
              "    <tr>\n",
              "      <th>4</th>\n",
              "      <td>0</td>\n",
              "      <td>1467811193</td>\n",
              "      <td>Mon Apr 06 22:19:57 PDT 2009</td>\n",
              "      <td>NO_QUERY</td>\n",
              "      <td>Karoli</td>\n",
              "      <td>@nationwideclass no, it's not behaving at all....</td>\n",
              "    </tr>\n",
              "  </tbody>\n",
              "</table>\n",
              "</div>"
            ],
            "text/plain": [
              "   0  ...                                                  5\n",
              "0  0  ...  @switchfoot http://twitpic.com/2y1zl - Awww, t...\n",
              "1  0  ...  is upset that he can't update his Facebook by ...\n",
              "2  0  ...  @Kenichan I dived many times for the ball. Man...\n",
              "3  0  ...    my whole body feels itchy and like its on fire \n",
              "4  0  ...  @nationwideclass no, it's not behaving at all....\n",
              "\n",
              "[5 rows x 6 columns]"
            ]
          },
          "metadata": {
            "tags": []
          },
          "execution_count": 11
        }
      ]
    },
    {
      "cell_type": "code",
      "metadata": {
        "id": "ATR1x1ruRlcF",
        "colab_type": "code",
        "colab": {
          "base_uri": "https://localhost:8080/",
          "height": 34
        },
        "outputId": "7275b431-422c-4ab3-cdfc-3b7568b02156"
      },
      "source": [
        "df.shape"
      ],
      "execution_count": 12,
      "outputs": [
        {
          "output_type": "execute_result",
          "data": {
            "text/plain": [
              "(1600000, 6)"
            ]
          },
          "metadata": {
            "tags": []
          },
          "execution_count": 12
        }
      ]
    },
    {
      "cell_type": "code",
      "metadata": {
        "id": "JIhXdK476khC",
        "colab_type": "code",
        "colab": {}
      },
      "source": [
        "df=df[[0,5]]\n",
        "df.columns = ['sentiment','text']"
      ],
      "execution_count": 13,
      "outputs": []
    },
    {
      "cell_type": "code",
      "metadata": {
        "id": "clwW9jiys7dG",
        "colab_type": "code",
        "colab": {}
      },
      "source": [
        "df = df.sample(frac=0.04, random_state=5)"
      ],
      "execution_count": 14,
      "outputs": []
    },
    {
      "cell_type": "code",
      "metadata": {
        "id": "uOiUSStgSSHu",
        "colab_type": "code",
        "colab": {
          "base_uri": "https://localhost:8080/",
          "height": 34
        },
        "outputId": "40cca2ab-fb7c-47d2-8caa-00c25c9f9160"
      },
      "source": [
        "df.shape"
      ],
      "execution_count": 15,
      "outputs": [
        {
          "output_type": "execute_result",
          "data": {
            "text/plain": [
              "(64000, 2)"
            ]
          },
          "metadata": {
            "tags": []
          },
          "execution_count": 15
        }
      ]
    },
    {
      "cell_type": "code",
      "metadata": {
        "id": "apkDh2e46nGZ",
        "colab_type": "code",
        "colab": {
          "base_uri": "https://localhost:8080/",
          "height": 360
        },
        "outputId": "3cbdb077-1c40-450b-d4c3-da89d8dbbd52"
      },
      "source": [
        "df.head(10)"
      ],
      "execution_count": 16,
      "outputs": [
        {
          "output_type": "execute_result",
          "data": {
            "text/html": [
              "<div>\n",
              "<style scoped>\n",
              "    .dataframe tbody tr th:only-of-type {\n",
              "        vertical-align: middle;\n",
              "    }\n",
              "\n",
              "    .dataframe tbody tr th {\n",
              "        vertical-align: top;\n",
              "    }\n",
              "\n",
              "    .dataframe thead th {\n",
              "        text-align: right;\n",
              "    }\n",
              "</style>\n",
              "<table border=\"1\" class=\"dataframe\">\n",
              "  <thead>\n",
              "    <tr style=\"text-align: right;\">\n",
              "      <th></th>\n",
              "      <th>sentiment</th>\n",
              "      <th>text</th>\n",
              "    </tr>\n",
              "  </thead>\n",
              "  <tbody>\n",
              "    <tr>\n",
              "      <th>1425895</th>\n",
              "      <td>4</td>\n",
              "      <td>Just back from an excellent concert from the G...</td>\n",
              "    </tr>\n",
              "    <tr>\n",
              "      <th>1153784</th>\n",
              "      <td>4</td>\n",
              "      <td>@gfalcone601 Aww Gi.don't worry.we'll vote for...</td>\n",
              "    </tr>\n",
              "    <tr>\n",
              "      <th>1424137</th>\n",
              "      <td>4</td>\n",
              "      <td>watching #fatafeat</td>\n",
              "    </tr>\n",
              "    <tr>\n",
              "      <th>82854</th>\n",
              "      <td>0</td>\n",
              "      <td>@fallenstar_ LOL don't do that please!!!!</td>\n",
              "    </tr>\n",
              "    <tr>\n",
              "      <th>1271893</th>\n",
              "      <td>4</td>\n",
              "      <td>@ShaneDaddict Its ok</td>\n",
              "    </tr>\n",
              "    <tr>\n",
              "      <th>1375687</th>\n",
              "      <td>4</td>\n",
              "      <td>Kaitlyn i feel your pain. Ive been home to and...</td>\n",
              "    </tr>\n",
              "    <tr>\n",
              "      <th>65177</th>\n",
              "      <td>0</td>\n",
              "      <td>@mickayyyla dont eww my haupia  its great! HAH...</td>\n",
              "    </tr>\n",
              "    <tr>\n",
              "      <th>1353647</th>\n",
              "      <td>4</td>\n",
              "      <td>@rfeastsidedave  my first twitter friend aweso...</td>\n",
              "    </tr>\n",
              "    <tr>\n",
              "      <th>738451</th>\n",
              "      <td>0</td>\n",
              "      <td>Just brought a turtle ...pretty sure it hates ...</td>\n",
              "    </tr>\n",
              "    <tr>\n",
              "      <th>1284503</th>\n",
              "      <td>4</td>\n",
              "      <td>@dave_holmes thanks for you help</td>\n",
              "    </tr>\n",
              "  </tbody>\n",
              "</table>\n",
              "</div>"
            ],
            "text/plain": [
              "         sentiment                                               text\n",
              "1425895          4  Just back from an excellent concert from the G...\n",
              "1153784          4  @gfalcone601 Aww Gi.don't worry.we'll vote for...\n",
              "1424137          4                                watching #fatafeat \n",
              "82854            0         @fallenstar_ LOL don't do that please!!!! \n",
              "1271893          4                              @ShaneDaddict Its ok \n",
              "1375687          4  Kaitlyn i feel your pain. Ive been home to and...\n",
              "65177            0  @mickayyyla dont eww my haupia  its great! HAH...\n",
              "1353647          4  @rfeastsidedave  my first twitter friend aweso...\n",
              "738451           0  Just brought a turtle ...pretty sure it hates ...\n",
              "1284503          4                  @dave_holmes thanks for you help "
            ]
          },
          "metadata": {
            "tags": []
          },
          "execution_count": 16
        }
      ]
    },
    {
      "cell_type": "code",
      "metadata": {
        "id": "M1zG4qB96pNF",
        "colab_type": "code",
        "colab": {}
      },
      "source": [
        "import re\n",
        "\n",
        "\n",
        "def process_text(text):\n",
        "    text = text.replace('#', 'hashtag ')\n",
        "    text = re.sub(r\"https?://\\S+\", '', text)\n",
        "    text = re.sub(r\"^@\\S+|\\s@\\S+\",'', text)\n",
        "\n",
        "    \n",
        "    return text.strip().rstrip()"
      ],
      "execution_count": 17,
      "outputs": []
    },
    {
      "cell_type": "code",
      "metadata": {
        "id": "xjVM3hL06s6K",
        "colab_type": "code",
        "colab": {}
      },
      "source": [
        "df.text = df.text.apply(process_text)"
      ],
      "execution_count": 18,
      "outputs": []
    },
    {
      "cell_type": "code",
      "metadata": {
        "id": "0GMoTRhP6vut",
        "colab_type": "code",
        "colab": {
          "base_uri": "https://localhost:8080/",
          "height": 204
        },
        "outputId": "86b2665d-5d2f-44a7-9788-7953f72d5c4c"
      },
      "source": [
        "df.head()"
      ],
      "execution_count": 19,
      "outputs": [
        {
          "output_type": "execute_result",
          "data": {
            "text/html": [
              "<div>\n",
              "<style scoped>\n",
              "    .dataframe tbody tr th:only-of-type {\n",
              "        vertical-align: middle;\n",
              "    }\n",
              "\n",
              "    .dataframe tbody tr th {\n",
              "        vertical-align: top;\n",
              "    }\n",
              "\n",
              "    .dataframe thead th {\n",
              "        text-align: right;\n",
              "    }\n",
              "</style>\n",
              "<table border=\"1\" class=\"dataframe\">\n",
              "  <thead>\n",
              "    <tr style=\"text-align: right;\">\n",
              "      <th></th>\n",
              "      <th>sentiment</th>\n",
              "      <th>text</th>\n",
              "    </tr>\n",
              "  </thead>\n",
              "  <tbody>\n",
              "    <tr>\n",
              "      <th>1425895</th>\n",
              "      <td>4</td>\n",
              "      <td>Just back from an excellent concert from the G...</td>\n",
              "    </tr>\n",
              "    <tr>\n",
              "      <th>1153784</th>\n",
              "      <td>4</td>\n",
              "      <td>Aww Gi.don't worry.we'll vote for you non-stop...</td>\n",
              "    </tr>\n",
              "    <tr>\n",
              "      <th>1424137</th>\n",
              "      <td>4</td>\n",
              "      <td>watching hashtag fatafeat</td>\n",
              "    </tr>\n",
              "    <tr>\n",
              "      <th>82854</th>\n",
              "      <td>0</td>\n",
              "      <td>LOL don't do that please!!!!</td>\n",
              "    </tr>\n",
              "    <tr>\n",
              "      <th>1271893</th>\n",
              "      <td>4</td>\n",
              "      <td>Its ok</td>\n",
              "    </tr>\n",
              "  </tbody>\n",
              "</table>\n",
              "</div>"
            ],
            "text/plain": [
              "         sentiment                                               text\n",
              "1425895          4  Just back from an excellent concert from the G...\n",
              "1153784          4  Aww Gi.don't worry.we'll vote for you non-stop...\n",
              "1424137          4                          watching hashtag fatafeat\n",
              "82854            0                       LOL don't do that please!!!!\n",
              "1271893          4                                             Its ok"
            ]
          },
          "metadata": {
            "tags": []
          },
          "execution_count": 19
        }
      ]
    },
    {
      "cell_type": "code",
      "metadata": {
        "id": "9PXGJMpA6ykC",
        "colab_type": "code",
        "colab": {}
      },
      "source": [
        "sentiments = df.sentiment.values\n",
        "sentences = df.text.values"
      ],
      "execution_count": 20,
      "outputs": []
    },
    {
      "cell_type": "code",
      "metadata": {
        "id": "nqY3kXsStwUF",
        "colab_type": "code",
        "colab": {}
      },
      "source": [
        "sentiments[sentiments==4]=1"
      ],
      "execution_count": 21,
      "outputs": []
    },
    {
      "cell_type": "code",
      "metadata": {
        "id": "XI2Unlcq61aI",
        "colab_type": "code",
        "colab": {
          "base_uri": "https://localhost:8080/",
          "height": 34
        },
        "outputId": "c5d2566c-ab20-47d5-e1c8-2ff766755bef"
      },
      "source": [
        "sentiments[-1],sentences[-1]"
      ],
      "execution_count": 22,
      "outputs": [
        {
          "output_type": "execute_result",
          "data": {
            "text/plain": [
              "(1, 'Its HOT!')"
            ]
          },
          "metadata": {
            "tags": []
          },
          "execution_count": 22
        }
      ]
    },
    {
      "cell_type": "code",
      "metadata": {
        "id": "Jii-j0r864BI",
        "colab_type": "code",
        "colab": {
          "base_uri": "https://localhost:8080/",
          "height": 34
        },
        "outputId": "4e5b20c4-a50f-43e3-981c-79b44eebac5d"
      },
      "source": [
        "sentiments[100],sentences[100]"
      ],
      "execution_count": 23,
      "outputs": [
        {
          "output_type": "execute_result",
          "data": {
            "text/plain": [
              "(0, 'I tripped going down my stairs And my mom started laughing')"
            ]
          },
          "metadata": {
            "tags": []
          },
          "execution_count": 23
        }
      ]
    },
    {
      "cell_type": "code",
      "metadata": {
        "id": "4XU4ocV367Cn",
        "colab_type": "code",
        "colab": {}
      },
      "source": [
        "def encode_sentence(s, tokenizer):\n",
        "    tokens = list(tokenizer.tokenize(s))\n",
        "    # tokens = [\"[CLS]\"] + tokens + [\"[SEP]\"]\n",
        "\n",
        "    return tokenizer.convert_tokens_to_ids(tokens)"
      ],
      "execution_count": 24,
      "outputs": []
    },
    {
      "cell_type": "code",
      "metadata": {
        "id": "hLkRikwh7CTF",
        "colab_type": "code",
        "colab": {}
      },
      "source": [
        "def bert_encode(sentences, tokenizer):\n",
        "    sentence = tf.ragged.constant([\n",
        "      encode_sentence(s, tokenizer)\n",
        "      for s in np.array(sentences)])\n",
        "    \n",
        "    cls = [tokenizer.convert_tokens_to_ids(['[CLS]'])]*sentence.shape[0]\n",
        "    sep = [tokenizer.convert_tokens_to_ids(['[SEP]'])]*sentence.shape[0]\n",
        "    input_word_ids = tf.concat([cls, sentence, sep], axis=-1)\n",
        "    \n",
        "    max_len = tf.reduce_max([s.shape[0] for s in input_word_ids]).numpy()\n",
        "    \n",
        "    print(max_len)\n",
        "    \n",
        "    input_mask = tf.ones_like(input_word_ids).to_tensor()\n",
        "    \n",
        "    input_segment = tf.zeros_like(input_word_ids).to_tensor()\n",
        "        \n",
        "    input_word_ids = tf.keras.preprocessing.sequence.pad_sequences(\n",
        "    input_word_ids.to_list(), maxlen=max_len, dtype='int32', padding='post',value=0)\n",
        "    \n",
        "    print('input ids done')\n",
        "    \n",
        "    input_mask = tf.keras.preprocessing.sequence.pad_sequences(\n",
        "    input_mask, maxlen=max_len, dtype='int32', padding='post',value=0)\n",
        "    \n",
        "    print('input masks done')\n",
        "    \n",
        "    input_segment = tf.keras.preprocessing.sequence.pad_sequences(\n",
        "    input_segment, maxlen=max_len, dtype='int32', padding='post',value=0)\n",
        "\n",
        "    print('input segments done')\n",
        "    \n",
        "    inputs = {\n",
        "      'input_word_ids': input_word_ids,\n",
        "      'input_mask': input_mask,\n",
        "      'segment_ids': input_segment}\n",
        "\n",
        "    return inputs"
      ],
      "execution_count": 25,
      "outputs": []
    },
    {
      "cell_type": "code",
      "metadata": {
        "id": "wrZQ5NrQ7HFV",
        "colab_type": "code",
        "colab": {
          "base_uri": "https://localhost:8080/",
          "height": 86
        },
        "outputId": "1c7ad2ea-dd2f-4ed6-98e3-2a871e62ff5a"
      },
      "source": [
        "inputs = bert_encode(sentences,tokenizer)"
      ],
      "execution_count": 26,
      "outputs": [
        {
          "output_type": "stream",
          "text": [
            "152\n",
            "input ids done\n",
            "input masks done\n",
            "input segments done\n"
          ],
          "name": "stdout"
        }
      ]
    },
    {
      "cell_type": "code",
      "metadata": {
        "id": "5NoYOeVW7Kmn",
        "colab_type": "code",
        "colab": {}
      },
      "source": [
        "senti = {'sentiments': sentiments}"
      ],
      "execution_count": 27,
      "outputs": []
    },
    {
      "cell_type": "code",
      "metadata": {
        "id": "_9ueIOHy7OHN",
        "colab_type": "code",
        "colab": {}
      },
      "source": [
        "import pickle\n",
        "\n",
        "with open('inp.p', 'wb') as fp:\n",
        "    pickle.dump(inputs, fp, protocol=pickle.HIGHEST_PROTOCOL)"
      ],
      "execution_count": 33,
      "outputs": []
    },
    {
      "cell_type": "code",
      "metadata": {
        "id": "WcWu5_7U7SHC",
        "colab_type": "code",
        "colab": {}
      },
      "source": [
        "with open('sent.p', 'wb') as fp1:\n",
        "    pickle.dump(senti, fp1, protocol=pickle.HIGHEST_PROTOCOL)"
      ],
      "execution_count": 34,
      "outputs": []
    },
    {
      "cell_type": "code",
      "metadata": {
        "id": "GPir7J_u7U6y",
        "colab_type": "code",
        "colab": {}
      },
      "source": [
        "!mv /content/inp.p '/content/drive/My Drive/cp'\n",
        "!mv /content/sent.p '/content/drive/My Drive/cp'"
      ],
      "execution_count": 44,
      "outputs": []
    },
    {
      "cell_type": "code",
      "metadata": {
        "id": "5e6Qz874ubxU",
        "colab_type": "code",
        "colab": {}
      },
      "source": [
        ""
      ],
      "execution_count": null,
      "outputs": []
    },
    {
      "cell_type": "code",
      "metadata": {
        "id": "O1UULyBk7j-g",
        "colab_type": "code",
        "colab": {}
      },
      "source": [
        "import pickle\n",
        "\n",
        "with open('/content/drive/My Drive/cp/inp.p', 'rb') as p:\n",
        "    inputs = pickle.load(p)\n",
        "\n",
        "with open('/content/drive/My Drive/cp/sent.p', 'rb') as p1:\n",
        "    sentiment = pickle.load(p1)"
      ],
      "execution_count": 7,
      "outputs": []
    },
    {
      "cell_type": "code",
      "metadata": {
        "id": "HH36kONb8oxS",
        "colab_type": "code",
        "colab": {}
      },
      "source": [
        "sentiments = sentiment['sentiments']"
      ],
      "execution_count": 8,
      "outputs": []
    },
    {
      "cell_type": "code",
      "metadata": {
        "id": "Hri9xqojvlqp",
        "colab_type": "code",
        "colab": {}
      },
      "source": [
        "def test(tokenizer, inputs, sentiments, ind):\n",
        "  print('ids')\n",
        "  print(inputs['input_word_ids'][ind])\n",
        "  print('mask')\n",
        "  print(inputs['input_mask'][ind])\n",
        "  print('segment')\n",
        "  print(inputs['segment_ids'][ind])\n",
        "  print('words')\n",
        "  for t in inputs['input_word_ids'][ind]:\n",
        "    if t!=0:\n",
        "      print(tokenizer.convert_ids_to_tokens([t]))\n",
        "  print('sentiment')\n",
        "  print(sentiments[ind])\n",
        "\n"
      ],
      "execution_count": 28,
      "outputs": []
    },
    {
      "cell_type": "code",
      "metadata": {
        "id": "1CRMYOcjxUNc",
        "colab_type": "code",
        "colab": {
          "base_uri": "https://localhost:8080/",
          "height": 673
        },
        "outputId": "458d069d-48a0-4f96-c547-9e7150665f9a"
      },
      "source": [
        "test(tokenizer,inputs, sentiments, 60)"
      ],
      "execution_count": 29,
      "outputs": [
        {
          "output_type": "stream",
          "text": [
            "ids\n",
            "[ 101 2851 1012 3246 2017 2024 2383 1037 3835 2051  102    0    0    0\n",
            "    0    0    0    0    0    0    0    0    0    0    0    0    0    0\n",
            "    0    0    0    0    0    0    0    0    0    0    0    0    0    0\n",
            "    0    0    0    0    0    0    0    0    0    0    0    0    0    0\n",
            "    0    0    0    0    0    0    0    0    0    0    0    0    0    0\n",
            "    0    0    0    0    0    0    0    0    0    0    0    0    0    0\n",
            "    0    0    0    0    0    0    0    0    0    0    0    0    0    0\n",
            "    0    0    0    0    0    0    0    0    0    0    0    0    0    0\n",
            "    0    0    0    0    0    0    0    0    0    0    0    0    0    0\n",
            "    0    0    0    0    0    0    0    0    0    0    0    0    0    0\n",
            "    0    0    0    0    0    0    0    0    0    0    0    0]\n",
            "mask\n",
            "[1 1 1 1 1 1 1 1 1 1 1 0 0 0 0 0 0 0 0 0 0 0 0 0 0 0 0 0 0 0 0 0 0 0 0 0 0\n",
            " 0 0 0 0 0 0 0 0 0 0 0 0 0 0 0 0 0 0 0 0 0 0 0 0 0 0 0 0 0 0 0 0 0 0 0 0 0\n",
            " 0 0 0 0 0 0 0 0 0 0 0 0 0 0 0 0 0 0 0 0 0 0 0 0 0 0 0 0 0 0 0 0 0 0 0 0 0\n",
            " 0 0 0 0 0 0 0 0 0 0 0 0 0 0 0 0 0 0 0 0 0 0 0 0 0 0 0 0 0 0 0 0 0 0 0 0 0\n",
            " 0 0 0 0]\n",
            "segment\n",
            "[0 0 0 0 0 0 0 0 0 0 0 0 0 0 0 0 0 0 0 0 0 0 0 0 0 0 0 0 0 0 0 0 0 0 0 0 0\n",
            " 0 0 0 0 0 0 0 0 0 0 0 0 0 0 0 0 0 0 0 0 0 0 0 0 0 0 0 0 0 0 0 0 0 0 0 0 0\n",
            " 0 0 0 0 0 0 0 0 0 0 0 0 0 0 0 0 0 0 0 0 0 0 0 0 0 0 0 0 0 0 0 0 0 0 0 0 0\n",
            " 0 0 0 0 0 0 0 0 0 0 0 0 0 0 0 0 0 0 0 0 0 0 0 0 0 0 0 0 0 0 0 0 0 0 0 0 0\n",
            " 0 0 0 0]\n",
            "words\n",
            "['[CLS]']\n",
            "['morning']\n",
            "['.']\n",
            "['hope']\n",
            "['you']\n",
            "['are']\n",
            "['having']\n",
            "['a']\n",
            "['nice']\n",
            "['time']\n",
            "['[SEP]']\n",
            "sentiment\n",
            "1\n"
          ],
          "name": "stdout"
        }
      ]
    },
    {
      "cell_type": "code",
      "metadata": {
        "id": "4GE8eTcy8ttl",
        "colab_type": "code",
        "colab": {
          "base_uri": "https://localhost:8080/",
          "height": 34
        },
        "outputId": "9b12f825-c77f-4cf2-8229-7cafb883b288"
      },
      "source": [
        "sentiments[:10]"
      ],
      "execution_count": 9,
      "outputs": [
        {
          "output_type": "execute_result",
          "data": {
            "text/plain": [
              "array([0, 0, 0, 0, 0, 0, 1, 0, 0, 1])"
            ]
          },
          "metadata": {
            "tags": []
          },
          "execution_count": 9
        }
      ]
    },
    {
      "cell_type": "code",
      "metadata": {
        "id": "9-xM_OGG6XdU",
        "colab_type": "code",
        "colab": {}
      },
      "source": [
        "total = len(sentiments)"
      ],
      "execution_count": 30,
      "outputs": []
    },
    {
      "cell_type": "code",
      "metadata": {
        "id": "P9boSHGw6XZy",
        "colab_type": "code",
        "colab": {}
      },
      "source": [
        "batch_size= 32\n",
        "train = tf.data.Dataset.from_tensor_slices((inputs,sentiments))\n",
        "# test = test.map(preprocess, num_parallel_calls=tf.data.experimental.AUTOTUNE)\n",
        "\n",
        "# test = test.batch(batch_size)"
      ],
      "execution_count": 48,
      "outputs": []
    },
    {
      "cell_type": "code",
      "metadata": {
        "id": "HnmK-QCM6w8Q",
        "colab_type": "code",
        "colab": {}
      },
      "source": [
        "train = train.cache().shuffle(total)\n",
        "train = train.batch(batch_size).prefetch(buffer_size=tf.data.experimental.AUTOTUNE)"
      ],
      "execution_count": 49,
      "outputs": []
    },
    {
      "cell_type": "code",
      "metadata": {
        "id": "6F93lmTMubsv",
        "colab_type": "code",
        "colab": {}
      },
      "source": [
        "max_seq_length = 152  # Your choice here.\n",
        "input_word_ids = tf.keras.layers.Input(shape=(max_seq_length,), dtype=tf.int32,\n",
        "                                       name=\"input_word_ids\")\n",
        "input_mask = tf.keras.layers.Input(shape=(max_seq_length,), dtype=tf.int32,\n",
        "                                   name=\"input_mask\")\n",
        "segment_ids = tf.keras.layers.Input(shape=(max_seq_length,), dtype=tf.int32,\n",
        "                                    name=\"segment_ids\")\n",
        "bert_layer = hub.KerasLayer(\"https://tfhub.dev/tensorflow/bert_en_uncased_L-12_H-768_A-12/2\",\n",
        "                            trainable=False)\n",
        "pooled_output, sequence_output = bert_layer([input_word_ids, input_mask, segment_ids])"
      ],
      "execution_count": 62,
      "outputs": []
    },
    {
      "cell_type": "code",
      "metadata": {
        "id": "8iYh-nSiuylo",
        "colab_type": "code",
        "colab": {}
      },
      "source": [
        "expand_pool = tf.keras.layers.Lambda(lambda x: tf.expand_dims(x,1))(pooled_output)\n",
        "pool_lstm1 = tf.keras.layers.Bidirectional(tf.keras.layers.LSTM(160,return_sequences=True))(expand_pool)\n",
        "pool_lstm2 = tf.keras.layers.Bidirectional(tf.keras.layers.LSTM(160))(pool_lstm1)\n",
        "# model.add(tf.keras.layers.Dense(160, activation='relu'))"
      ],
      "execution_count": 63,
      "outputs": []
    },
    {
      "cell_type": "code",
      "metadata": {
        "id": "wxEdBGPWvVug",
        "colab_type": "code",
        "colab": {}
      },
      "source": [
        "seq_lstm1 = tf.keras.layers.Bidirectional(tf.keras.layers.LSTM(160,return_sequences=True))(sequence_output)\n",
        "seq_lstm2 = tf.keras.layers.Bidirectional(tf.keras.layers.LSTM(160))(seq_lstm1)"
      ],
      "execution_count": 64,
      "outputs": []
    },
    {
      "cell_type": "code",
      "metadata": {
        "id": "dn3XtDJhvgzI",
        "colab_type": "code",
        "colab": {}
      },
      "source": [
        "concat = tf.keras.layers.concatenate([seq_lstm2,pool_lstm2])"
      ],
      "execution_count": 65,
      "outputs": []
    },
    {
      "cell_type": "code",
      "metadata": {
        "id": "JAA95fWfvzAa",
        "colab_type": "code",
        "colab": {}
      },
      "source": [
        "dense1 = tf.keras.layers.Dense(320, activation='relu')(concat)\n",
        "do1 = tf.keras.layers.Dropout(0.2)(dense1)\n",
        "dense2 = tf.keras.layers.Dense(160, activation='relu')(do1)\n",
        "do2 = tf.keras.layers.Dropout(0.2)(dense2)\n",
        "pred = tf.keras.layers.Dense(2, activation='softmax')(do2)\n",
        "\n",
        "model = Model(inputs=[input_word_ids, input_mask, segment_ids], outputs=pred)"
      ],
      "execution_count": 66,
      "outputs": []
    },
    {
      "cell_type": "code",
      "metadata": {
        "id": "2YSzCCyutvDa",
        "colab_type": "code",
        "colab": {}
      },
      "source": [
        "# last_layer = model.get_layer('keras_layer_1')\n",
        "# print('keras layer output shape: ', last_layer.output_shape)"
      ],
      "execution_count": 56,
      "outputs": []
    },
    {
      "cell_type": "code",
      "metadata": {
        "id": "aM6p4WA95cZH",
        "colab_type": "code",
        "colab": {
          "base_uri": "https://localhost:8080/",
          "height": 725
        },
        "outputId": "12877e6f-65fb-4754-835d-597575675d69"
      },
      "source": [
        "model.summary()"
      ],
      "execution_count": 67,
      "outputs": [
        {
          "output_type": "stream",
          "text": [
            "Model: \"model_2\"\n",
            "__________________________________________________________________________________________________\n",
            "Layer (type)                    Output Shape         Param #     Connected to                     \n",
            "==================================================================================================\n",
            "input_word_ids (InputLayer)     [(None, 152)]        0                                            \n",
            "__________________________________________________________________________________________________\n",
            "input_mask (InputLayer)         [(None, 152)]        0                                            \n",
            "__________________________________________________________________________________________________\n",
            "segment_ids (InputLayer)        [(None, 152)]        0                                            \n",
            "__________________________________________________________________________________________________\n",
            "keras_layer_4 (KerasLayer)      [(None, 768), (None, 109482241   input_word_ids[0][0]             \n",
            "                                                                 input_mask[0][0]                 \n",
            "                                                                 segment_ids[0][0]                \n",
            "__________________________________________________________________________________________________\n",
            "lambda_3 (Lambda)               (None, 1, 768)       0           keras_layer_4[0][0]              \n",
            "__________________________________________________________________________________________________\n",
            "bidirectional_9 (Bidirectional) (None, 152, 320)     1189120     keras_layer_4[0][1]              \n",
            "__________________________________________________________________________________________________\n",
            "bidirectional_7 (Bidirectional) (None, 1, 320)       1189120     lambda_3[0][0]                   \n",
            "__________________________________________________________________________________________________\n",
            "bidirectional_10 (Bidirectional (None, 320)          615680      bidirectional_9[0][0]            \n",
            "__________________________________________________________________________________________________\n",
            "bidirectional_8 (Bidirectional) (None, 320)          615680      bidirectional_7[0][0]            \n",
            "__________________________________________________________________________________________________\n",
            "concatenate_2 (Concatenate)     (None, 640)          0           bidirectional_10[0][0]           \n",
            "                                                                 bidirectional_8[0][0]            \n",
            "__________________________________________________________________________________________________\n",
            "dense_5 (Dense)                 (None, 320)          205120      concatenate_2[0][0]              \n",
            "__________________________________________________________________________________________________\n",
            "dropout_3 (Dropout)             (None, 320)          0           dense_5[0][0]                    \n",
            "__________________________________________________________________________________________________\n",
            "dense_6 (Dense)                 (None, 160)          51360       dropout_3[0][0]                  \n",
            "__________________________________________________________________________________________________\n",
            "dropout_4 (Dropout)             (None, 160)          0           dense_6[0][0]                    \n",
            "__________________________________________________________________________________________________\n",
            "dense_7 (Dense)                 (None, 2)            322         dropout_4[0][0]                  \n",
            "==================================================================================================\n",
            "Total params: 113,348,643\n",
            "Trainable params: 3,866,402\n",
            "Non-trainable params: 109,482,241\n",
            "__________________________________________________________________________________________________\n"
          ],
          "name": "stdout"
        }
      ]
    },
    {
      "cell_type": "code",
      "metadata": {
        "id": "wkvJBIQFucZ6",
        "colab_type": "code",
        "colab": {
          "base_uri": "https://localhost:8080/",
          "height": 1000
        },
        "outputId": "2bbf4687-363e-4745-f39f-e7751cf1ab46"
      },
      "source": [
        "tf.keras.utils.plot_model(model, show_shapes=True)"
      ],
      "execution_count": 68,
      "outputs": [
        {
          "output_type": "execute_result",
          "data": {
            "image/png": "[encoded data removed]",
            "text/plain": [
              "<IPython.core.display.Image object>"
            ]
          },
          "metadata": {
            "tags": []
          },
          "execution_count": 68
        }
      ]
    },
    {
      "cell_type": "code",
      "metadata": {
        "id": "r8klmNx65egV",
        "colab_type": "code",
        "colab": {}
      },
      "source": [
        "model.compile(optimizer = tf.optimizers.Adam(learning_rate=0.001), \n",
        "              loss = 'sparse_categorical_crossentropy', \n",
        "              metrics = ['accuracy'])"
      ],
      "execution_count": 69,
      "outputs": []
    },
    {
      "cell_type": "code",
      "metadata": {
        "id": "x0JiBN_R5qbL",
        "colab_type": "code",
        "colab": {
          "base_uri": "https://localhost:8080/",
          "height": 34
        },
        "outputId": "aec557a5-0805-4f4f-d86b-3f3a4a8593f7"
      },
      "source": [
        "from tensorflow.keras.callbacks import ModelCheckpoint\n",
        "filepath=\"cp/sentiment_model.hdf5\"\n",
        "checkpoint = ModelCheckpoint(filepath, monitor='loss', verbose=1, save_best_only=True, mode='min')\n",
        "\n",
        "!mkdir cp\n",
        "\n",
        "\n",
        "callbacks_list = [checkpoint]"
      ],
      "execution_count": 70,
      "outputs": [
        {
          "output_type": "stream",
          "text": [
            "mkdir: cannot create directory ‘cp’: File exists\n"
          ],
          "name": "stdout"
        }
      ]
    },
    {
      "cell_type": "code",
      "metadata": {
        "id": "zLyx_EiQ6EBv",
        "colab_type": "code",
        "colab": {}
      },
      "source": [
        ""
      ],
      "execution_count": 70,
      "outputs": []
    },
    {
      "cell_type": "code",
      "metadata": {
        "id": "Qjif8pwk52Md",
        "colab_type": "code",
        "colab": {
          "base_uri": "https://localhost:8080/",
          "height": 362
        },
        "outputId": "f838228b-a976-4f1e-8af8-c648d25067c3"
      },
      "source": [
        "history = model.fit(train, epochs=5, callbacks=callbacks_list)"
      ],
      "execution_count": 94,
      "outputs": [
        {
          "output_type": "stream",
          "text": [
            "Epoch 1/5\n",
            "2000/2000 [==============================] - ETA: 0s - loss: 0.2335 - accuracy: 0.9015\n",
            "Epoch 00001: loss improved from 0.29244 to 0.23349, saving model to cp/sentiment_model.hdf5\n",
            "2000/2000 [==============================] - 832s 416ms/step - loss: 0.2335 - accuracy: 0.9015\n",
            "Epoch 2/5\n",
            "2000/2000 [==============================] - ETA: 0s - loss: 0.1769 - accuracy: 0.9279\n",
            "Epoch 00002: loss improved from 0.23349 to 0.17692, saving model to cp/sentiment_model.hdf5\n",
            "2000/2000 [==============================] - 832s 416ms/step - loss: 0.1769 - accuracy: 0.9279\n",
            "Epoch 3/5\n",
            "2000/2000 [==============================] - ETA: 0s - loss: 0.1326 - accuracy: 0.9472\n",
            "Epoch 00003: loss improved from 0.17692 to 0.13264, saving model to cp/sentiment_model.hdf5\n",
            "2000/2000 [==============================] - 831s 416ms/step - loss: 0.1326 - accuracy: 0.9472\n",
            "Epoch 4/5\n",
            "2000/2000 [==============================] - ETA: 0s - loss: 0.1005 - accuracy: 0.9604\n",
            "Epoch 00004: loss improved from 0.13264 to 0.10047, saving model to cp/sentiment_model.hdf5\n",
            "2000/2000 [==============================] - 823s 411ms/step - loss: 0.1005 - accuracy: 0.9604\n",
            "Epoch 5/5\n",
            "2000/2000 [==============================] - ETA: 0s - loss: 0.0824 - accuracy: 0.9687\n",
            "Epoch 00005: loss improved from 0.10047 to 0.08245, saving model to cp/sentiment_model.hdf5\n",
            "2000/2000 [==============================] - 829s 415ms/step - loss: 0.0824 - accuracy: 0.9687\n"
          ],
          "name": "stdout"
        }
      ]
    },
    {
      "cell_type": "code",
      "metadata": {
        "id": "279HuhNO4JIv",
        "colab_type": "code",
        "colab": {
          "base_uri": "https://localhost:8080/",
          "height": 329
        },
        "outputId": "140da977-c4ab-4069-d158-93f6226fbf7f"
      },
      "source": [
        "import matplotlib.image  as mpimg\n",
        "import matplotlib.pyplot as plt\n",
        "\n",
        "#-----------------------------------------------------------\n",
        "# Retrieve a list of list results on training and test data\n",
        "# sets for each training epoch\n",
        "#-----------------------------------------------------------\n",
        "loss=history.history['loss']\n",
        "\n",
        "\n",
        "epochs=range(len(loss)) # Get number of epochs\n",
        "\n",
        "\n",
        "#------------------------------------------------\n",
        "# Plot training  loss per epoch\n",
        "#------------------------------------------------\n",
        "plt.plot(epochs, loss, 'r')\n",
        "# plt.plot(epochs, v_loss, 'b')\n",
        "plt.title('loss')\n",
        "plt.xlabel(\"Epochs\")\n",
        "plt.ylabel(\"Loss\")\n",
        "plt.legend([\"Loss\"])\n",
        "\n",
        "plt.figure()"
      ],
      "execution_count": 95,
      "outputs": [
        {
          "output_type": "execute_result",
          "data": {
            "text/plain": [
              "<Figure size 432x288 with 0 Axes>"
            ]
          },
          "metadata": {
            "tags": []
          },
          "execution_count": 95
        },
        {
          "output_type": "display_data",
          "data": {
            "image/png": "[encoded data removed]",
            "text/plain": [
              "<Figure size 432x288 with 1 Axes>"
            ]
          },
          "metadata": {
            "tags": [],
            "needs_background": "light"
          }
        },
        {
          "output_type": "display_data",
          "data": {
            "text/plain": [
              "<Figure size 432x288 with 0 Axes>"
            ]
          },
          "metadata": {
            "tags": []
          }
        }
      ]
    },
    {
      "cell_type": "code",
      "metadata": {
        "id": "HqmmItjyGoMC",
        "colab_type": "code",
        "colab": {}
      },
      "source": [
        "model.load_weights('/content/cp/sentiment_model.hdf5')"
      ],
      "execution_count": 96,
      "outputs": []
    },
    {
      "cell_type": "code",
      "metadata": {
        "id": "0Tkofdymvgyc",
        "colab_type": "code",
        "colab": {}
      },
      "source": [
        "def predict_sentiment(text, tokenizer, max_len):\n",
        "  \n",
        "  processed_text = process_text(text)\n",
        "  tokens = list(tokenizer.tokenize(processed_text))\n",
        "  tokens = [\"[CLS]\"] + tokens + [\"[SEP]\"]\n",
        "\n",
        "  print(tokens)\n",
        "  encoded = tokenizer.convert_tokens_to_ids(tokens)\n",
        "\n",
        "  encoded = tf.expand_dims(encoded, axis=0)\n",
        "  \n",
        "  input_mask = tf.ones_like(encoded)\n",
        "    \n",
        "  input_segment = tf.zeros_like(encoded)\n",
        "\n",
        "  input_word_ids = tf.keras.preprocessing.sequence.pad_sequences(\n",
        "  encoded, maxlen=max_len, dtype='int32', padding='post',value=0)\n",
        "\n",
        "  input_mask = tf.keras.preprocessing.sequence.pad_sequences(\n",
        "  input_mask, maxlen=max_len, dtype='int32', padding='post',value=0)\n",
        "    \n",
        "    \n",
        "  input_segment = tf.keras.preprocessing.sequence.pad_sequences(\n",
        "  input_segment, maxlen=max_len, dtype='int32', padding='post',value=0)\n",
        "\n",
        "  inputs = {'input_word_ids': input_word_ids, 'input_mask': input_mask, 'segment_ids': input_segment}\n",
        "\n",
        "  score = model.predict(inputs)[0]\n",
        "\n",
        "  return {\"negative\": float(score[0]), \"postive\": float(score[1])} \n",
        "\n",
        "\n",
        "\n",
        "\n",
        "\n",
        "\n",
        "\n",
        "\n"
      ],
      "execution_count": 97,
      "outputs": []
    },
    {
      "cell_type": "code",
      "metadata": {
        "id": "0gYCKTVDGCVv",
        "colab_type": "code",
        "colab": {
          "base_uri": "https://localhost:8080/",
          "height": 51
        },
        "outputId": "5334c789-b48a-436d-c9ff-71a252b78576"
      },
      "source": [
        "predict_sentiment(\"@breatheintotheshadows was liked by everyone but it was okay\", tokenizer, max_len=152)"
      ],
      "execution_count": 104,
      "outputs": [
        {
          "output_type": "stream",
          "text": [
            "['[CLS]', 'was', 'liked', 'by', 'everyone', 'but', 'it', 'was', 'okay', '[SEP]']\n"
          ],
          "name": "stdout"
        },
        {
          "output_type": "execute_result",
          "data": {
            "text/plain": [
              "{'negative': 0.9229295253753662, 'postive': 0.07707047462463379}"
            ]
          },
          "metadata": {
            "tags": []
          },
          "execution_count": 104
        }
      ]
    },
    {
      "cell_type": "code",
      "metadata": {
        "id": "Dh-sq8doX-wL",
        "colab_type": "code",
        "colab": {}
      },
      "source": [
        ""
      ],
      "execution_count": null,
      "outputs": []
    }
  ]
}