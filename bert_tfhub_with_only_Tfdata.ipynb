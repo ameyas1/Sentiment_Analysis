{
  "nbformat": 4,
  "nbformat_minor": 0,
  "metadata": {
    "colab": {
      "name": "bert_tfhub_with_only_Tfdata",
      "provenance": [],
      "collapsed_sections": [],
      "mount_file_id": "1B7iN7cRd6zEuzT-rywcowt8xdfXG1iRl",
      "authorship_tag": "ABX9TyPQjlqjhONIjYe4akzUCJFp",
      "include_colab_link": true
    },
    "kernelspec": {
      "name": "python3",
      "display_name": "Python 3"
    },
    "accelerator": "GPU"
  },
  "cells": [
    {
      "cell_type": "markdown",
      "metadata": {
        "id": "view-in-github",
        "colab_type": "text"
      },
      "source": [
        "<a href=\"https://colab.research.google.com/github/ameyas1/Sentiment_Analysis/blob/master/bert_tfhub_with_only_Tfdata.ipynb\" target=\"_parent\"><img src=\"https://colab.research.google.com/assets/colab-badge.svg\" alt=\"Open In Colab\"/></a>"
      ]
    },
    {
      "cell_type": "markdown",
      "metadata": {
        "id": "1i-1q6i8uuqe",
        "colab_type": "text"
      },
      "source": [
        "**Download Dataset From Kaggle**"
      ]
    },
    {
      "cell_type": "code",
      "metadata": {
        "id": "jzNN3ZMg3N-Z",
        "colab_type": "code",
        "colab": {
          "base_uri": "https://localhost:8080/",
          "height": 34
        },
        "outputId": "57159e5b-6ed9-4d7c-8835-49cf4d2bcfca"
      },
      "source": [
        "!pip install -q kaggle\n",
        "!mkdir -p ~/.kaggle\n",
        "!cp /content/kaggle.json ~/.kaggle/\n",
        "!ls ~/.kaggle\n",
        "!chmod 600 /root/.kaggle/kaggle.json"
      ],
      "execution_count": 1,
      "outputs": [
        {
          "output_type": "stream",
          "text": [
            "kaggle.json\n"
          ],
          "name": "stdout"
        }
      ]
    },
    {
      "cell_type": "code",
      "metadata": {
        "id": "hWmf-NQN9G7i",
        "colab_type": "code",
        "colab": {
          "base_uri": "https://localhost:8080/",
          "height": 224
        },
        "outputId": "6049b818-0670-48f3-8169-2c0f9ff68d79"
      },
      "source": [
        "!pip install -q tf-nightly\n",
        "!pip install -q tf-models-nightly"
      ],
      "execution_count": 2,
      "outputs": [
        {
          "output_type": "stream",
          "text": [
            "\u001b[K     |████████████████████████████████| 324.5MB 56kB/s \n",
            "\u001b[K     |████████████████████████████████| 6.8MB 56.4MB/s \n",
            "\u001b[K     |████████████████████████████████| 460kB 52.6MB/s \n",
            "\u001b[K     |████████████████████████████████| 880kB 8.6MB/s \n",
            "\u001b[K     |████████████████████████████████| 1.1MB 30.2MB/s \n",
            "\u001b[K     |████████████████████████████████| 36.4MB 83kB/s \n",
            "\u001b[K     |████████████████████████████████| 174kB 55.4MB/s \n",
            "\u001b[K     |████████████████████████████████| 102kB 14.6MB/s \n",
            "\u001b[K     |████████████████████████████████| 358kB 54.2MB/s \n",
            "\u001b[K     |████████████████████████████████| 296kB 51.5MB/s \n",
            "\u001b[?25h  Building wheel for seqeval (setup.py) ... \u001b[?25l\u001b[?25hdone\n",
            "  Building wheel for py-cpuinfo (setup.py) ... \u001b[?25l\u001b[?25hdone\n"
          ],
          "name": "stdout"
        }
      ]
    },
    {
      "cell_type": "code",
      "metadata": {
        "id": "BS2e4sab35QH",
        "colab_type": "code",
        "colab": {
          "base_uri": "https://localhost:8080/",
          "height": 68
        },
        "outputId": "478895d6-775c-48aa-eba0-5375e153e8c8"
      },
      "source": [
        "!kaggle datasets download -d lakshmi25npathi/imdb-dataset-of-50k-movie-reviews"
      ],
      "execution_count": 3,
      "outputs": [
        {
          "output_type": "stream",
          "text": [
            "Downloading imdb-dataset-of-50k-movie-reviews.zip to /content\n",
            " 35% 9.00M/25.7M [00:00<00:01, 17.1MB/s]\n",
            "100% 25.7M/25.7M [00:00<00:00, 47.0MB/s]\n"
          ],
          "name": "stdout"
        }
      ]
    },
    {
      "cell_type": "code",
      "metadata": {
        "id": "jrUWf00K5sVr",
        "colab_type": "code",
        "colab": {}
      },
      "source": [
        "from official import nlp\n",
        "from official.nlp import bert\n",
        "\n",
        "# Load the required submodules\n",
        "import official.nlp.optimization"
      ],
      "execution_count": 4,
      "outputs": []
    },
    {
      "cell_type": "code",
      "metadata": {
        "id": "p2Kjm53ciArj",
        "colab_type": "code",
        "colab": {}
      },
      "source": [
        "import official.nlp.bert.tokenization"
      ],
      "execution_count": 5,
      "outputs": []
    },
    {
      "cell_type": "code",
      "metadata": {
        "id": "zMdOQx-W5BqU",
        "colab_type": "code",
        "colab": {
          "base_uri": "https://localhost:8080/",
          "height": 51
        },
        "outputId": "e53c144a-0794-46d4-eccb-71ae6358ed7b"
      },
      "source": [
        "!unzip /content/imdb-dataset-of-50k-movie-reviews.zip"
      ],
      "execution_count": 6,
      "outputs": [
        {
          "output_type": "stream",
          "text": [
            "Archive:  /content/imdb-dataset-of-50k-movie-reviews.zip\n",
            "  inflating: IMDB Dataset.csv        \n"
          ],
          "name": "stdout"
        }
      ]
    },
    {
      "cell_type": "code",
      "metadata": {
        "id": "EpsnlP_h6GCO",
        "colab_type": "code",
        "colab": {}
      },
      "source": [
        "# !pip install bert-for-tf2"
      ],
      "execution_count": 7,
      "outputs": []
    },
    {
      "cell_type": "code",
      "metadata": {
        "id": "ZAIuX3N857dr",
        "colab_type": "code",
        "colab": {}
      },
      "source": [
        "import numpy as np \n",
        "import pandas as pd\n",
        "# import bert\n",
        "from tensorflow.keras.models import Model       # Keras is the new high level API for TensorFlow\n",
        "import math\n",
        "import tensorflow as tf\n",
        "import tensorflow_hub as hub\n"
      ],
      "execution_count": 8,
      "outputs": []
    },
    {
      "cell_type": "code",
      "metadata": {
        "id": "hpdA2eL_6N4G",
        "colab_type": "code",
        "colab": {}
      },
      "source": [
        "FullTokenizer = bert.tokenization.FullTokenizer"
      ],
      "execution_count": 9,
      "outputs": []
    },
    {
      "cell_type": "code",
      "metadata": {
        "id": "1QNpj1Jj6QkQ",
        "colab_type": "code",
        "colab": {}
      },
      "source": [
        "# max_seq_length = 1024  # Your choice here.\n",
        "# input_word_ids = tf.keras.layers.Input(shape=(max_seq_length,), dtype=tf.int32,\n",
        "#                                        name=\"input_word_ids\")\n",
        "# input_mask = tf.keras.layers.Input(shape=(max_seq_length,), dtype=tf.int32,\n",
        "#                                    name=\"input_mask\")\n",
        "# segment_ids = tf.keras.layers.Input(shape=(max_seq_length,), dtype=tf.int32,\n",
        "#                                     name=\"segment_ids\")\n",
        "bert_layer = hub.KerasLayer(\"https://tfhub.dev/tensorflow/bert_en_cased_L-12_H-768_A-12/2\",\n",
        "                            trainable=True)\n",
        "# pooled_output, sequence_output = bert_layer([input_word_ids, input_mask, segment_ids])"
      ],
      "execution_count": 10,
      "outputs": []
    },
    {
      "cell_type": "code",
      "metadata": {
        "id": "Chjlky6v6UP3",
        "colab_type": "code",
        "colab": {}
      },
      "source": [
        "# model = Model(inputs=[input_word_ids, input_mask, segment_ids], outputs=[pooled_output, sequence_output])"
      ],
      "execution_count": 11,
      "outputs": []
    },
    {
      "cell_type": "code",
      "metadata": {
        "id": "JrCzGqym6X3L",
        "colab_type": "code",
        "colab": {}
      },
      "source": [
        "vocab_file = bert_layer.resolved_object.vocab_file.asset_path.numpy()\n",
        "do_lower_case = bert_layer.resolved_object.do_lower_case.numpy()\n",
        "tokenizer = FullTokenizer(vocab_file, do_lower_case)"
      ],
      "execution_count": 12,
      "outputs": []
    },
    {
      "cell_type": "code",
      "metadata": {
        "id": "Cf_VP6zVBvEJ",
        "colab_type": "code",
        "colab": {
          "base_uri": "https://localhost:8080/",
          "height": 449
        },
        "outputId": "17305574-5b88-49fc-dfe5-d9e68ae66b4a"
      },
      "source": [
        "help(tokenizer)"
      ],
      "execution_count": 13,
      "outputs": [
        {
          "output_type": "stream",
          "text": [
            "Help on FullTokenizer in module official.nlp.bert.tokenization object:\n",
            "\n",
            "class FullTokenizer(builtins.object)\n",
            " |  Runs end-to-end tokenziation.\n",
            " |  \n",
            " |  Methods defined here:\n",
            " |  \n",
            " |  __init__(self, vocab_file, do_lower_case=True, split_on_punc=True)\n",
            " |      Initialize self.  See help(type(self)) for accurate signature.\n",
            " |  \n",
            " |  convert_ids_to_tokens(self, ids)\n",
            " |  \n",
            " |  convert_tokens_to_ids(self, tokens)\n",
            " |  \n",
            " |  tokenize(self, text)\n",
            " |  \n",
            " |  ----------------------------------------------------------------------\n",
            " |  Data descriptors defined here:\n",
            " |  \n",
            " |  __dict__\n",
            " |      dictionary for instance variables (if defined)\n",
            " |  \n",
            " |  __weakref__\n",
            " |      list of weak references to the object (if defined)\n",
            "\n"
          ],
          "name": "stdout"
        }
      ]
    },
    {
      "cell_type": "markdown",
      "metadata": {
        "id": "GTQKPKr4u3mX",
        "colab_type": "text"
      },
      "source": [
        "**Preprocess**"
      ]
    },
    {
      "cell_type": "code",
      "metadata": {
        "id": "yaHiXUIJ6aOX",
        "colab_type": "code",
        "colab": {}
      },
      "source": [
        "df=pd.read_csv(\"/content/imdb-dataset-of-50k-movie-reviews.zip\")"
      ],
      "execution_count": 14,
      "outputs": []
    },
    {
      "cell_type": "code",
      "metadata": {
        "id": "u8FQgh926dXf",
        "colab_type": "code",
        "colab": {
          "base_uri": "https://localhost:8080/",
          "height": 204
        },
        "outputId": "f5a2c02a-4c19-44d5-83a1-643bff5f6edf"
      },
      "source": [
        "df.head()"
      ],
      "execution_count": 15,
      "outputs": [
        {
          "output_type": "execute_result",
          "data": {
            "text/html": [
              "<div>\n",
              "<style scoped>\n",
              "    .dataframe tbody tr th:only-of-type {\n",
              "        vertical-align: middle;\n",
              "    }\n",
              "\n",
              "    .dataframe tbody tr th {\n",
              "        vertical-align: top;\n",
              "    }\n",
              "\n",
              "    .dataframe thead th {\n",
              "        text-align: right;\n",
              "    }\n",
              "</style>\n",
              "<table border=\"1\" class=\"dataframe\">\n",
              "  <thead>\n",
              "    <tr style=\"text-align: right;\">\n",
              "      <th></th>\n",
              "      <th>review</th>\n",
              "      <th>sentiment</th>\n",
              "    </tr>\n",
              "  </thead>\n",
              "  <tbody>\n",
              "    <tr>\n",
              "      <th>0</th>\n",
              "      <td>One of the other reviewers has mentioned that ...</td>\n",
              "      <td>positive</td>\n",
              "    </tr>\n",
              "    <tr>\n",
              "      <th>1</th>\n",
              "      <td>A wonderful little production. &lt;br /&gt;&lt;br /&gt;The...</td>\n",
              "      <td>positive</td>\n",
              "    </tr>\n",
              "    <tr>\n",
              "      <th>2</th>\n",
              "      <td>I thought this was a wonderful way to spend ti...</td>\n",
              "      <td>positive</td>\n",
              "    </tr>\n",
              "    <tr>\n",
              "      <th>3</th>\n",
              "      <td>Basically there's a family where a little boy ...</td>\n",
              "      <td>negative</td>\n",
              "    </tr>\n",
              "    <tr>\n",
              "      <th>4</th>\n",
              "      <td>Petter Mattei's \"Love in the Time of Money\" is...</td>\n",
              "      <td>positive</td>\n",
              "    </tr>\n",
              "  </tbody>\n",
              "</table>\n",
              "</div>"
            ],
            "text/plain": [
              "                                              review sentiment\n",
              "0  One of the other reviewers has mentioned that ...  positive\n",
              "1  A wonderful little production. <br /><br />The...  positive\n",
              "2  I thought this was a wonderful way to spend ti...  positive\n",
              "3  Basically there's a family where a little boy ...  negative\n",
              "4  Petter Mattei's \"Love in the Time of Money\" is...  positive"
            ]
          },
          "metadata": {
            "tags": []
          },
          "execution_count": 15
        }
      ]
    },
    {
      "cell_type": "code",
      "metadata": {
        "id": "ATR1x1ruRlcF",
        "colab_type": "code",
        "colab": {
          "base_uri": "https://localhost:8080/",
          "height": 34
        },
        "outputId": "c7b8fd4a-68ac-4b30-e581-a6b00ad19696"
      },
      "source": [
        "df.shape"
      ],
      "execution_count": 16,
      "outputs": [
        {
          "output_type": "execute_result",
          "data": {
            "text/plain": [
              "(50000, 2)"
            ]
          },
          "metadata": {
            "tags": []
          },
          "execution_count": 16
        }
      ]
    },
    {
      "cell_type": "code",
      "metadata": {
        "id": "qk_wCjLla7Kh",
        "colab_type": "code",
        "colab": {}
      },
      "source": [
        "df.dropna(inplace=True)"
      ],
      "execution_count": 17,
      "outputs": []
    },
    {
      "cell_type": "code",
      "metadata": {
        "id": "xw_6WoImbAu6",
        "colab_type": "code",
        "colab": {
          "base_uri": "https://localhost:8080/",
          "height": 34
        },
        "outputId": "47227b89-8d33-49db-8da0-b1740afa23da"
      },
      "source": [
        "df.shape"
      ],
      "execution_count": 18,
      "outputs": [
        {
          "output_type": "execute_result",
          "data": {
            "text/plain": [
              "(50000, 2)"
            ]
          },
          "metadata": {
            "tags": []
          },
          "execution_count": 18
        }
      ]
    },
    {
      "cell_type": "code",
      "metadata": {
        "id": "JIhXdK476khC",
        "colab_type": "code",
        "colab": {}
      },
      "source": [
        "# df=df[[0,5]]\n",
        "# df.columns = ['sentiment','text']"
      ],
      "execution_count": 19,
      "outputs": []
    },
    {
      "cell_type": "code",
      "metadata": {
        "id": "M1zG4qB96pNF",
        "colab_type": "code",
        "colab": {}
      },
      "source": [
        "import re\n",
        "\n",
        "def cleanhtml(raw_html):\n",
        "  cleanr = re.compile('<.*?>')\n",
        "  cleantext = re.sub(cleanr, '', raw_html)\n",
        "  return cleantext\n",
        "\n",
        "\n",
        "def process_text(text):\n",
        "    text = text.replace('#', 'hashtag ')\n",
        "    text = re.sub(r\"https?://\\S+\", '', text)\n",
        "    text = re.sub(r\"^@\\S+|\\s@\\S+\",'', text)\n",
        "    text = cleanhtml(text)\n",
        "\n",
        "    \n",
        "    return text.strip().rstrip()"
      ],
      "execution_count": 20,
      "outputs": []
    },
    {
      "cell_type": "code",
      "metadata": {
        "id": "96NNRVkhbQbj",
        "colab_type": "code",
        "colab": {}
      },
      "source": [
        "def conv_1_0(sentiment):\n",
        "  if sentiment == 'positive':\n",
        "    sentiment = 1\n",
        "  else:\n",
        "    sentiment = 0\n",
        "  return sentiment"
      ],
      "execution_count": 21,
      "outputs": []
    },
    {
      "cell_type": "code",
      "metadata": {
        "id": "B5Hel0SLbkhY",
        "colab_type": "code",
        "colab": {}
      },
      "source": [
        "df.sentiment = df.sentiment.apply(conv_1_0)"
      ],
      "execution_count": 22,
      "outputs": []
    },
    {
      "cell_type": "code",
      "metadata": {
        "id": "xjVM3hL06s6K",
        "colab_type": "code",
        "colab": {}
      },
      "source": [
        "df.review = df.review.apply(process_text)"
      ],
      "execution_count": 23,
      "outputs": []
    },
    {
      "cell_type": "code",
      "metadata": {
        "id": "0GMoTRhP6vut",
        "colab_type": "code",
        "colab": {
          "base_uri": "https://localhost:8080/",
          "height": 204
        },
        "outputId": "54b25f79-327c-426f-9bc3-f24a22c17ee3"
      },
      "source": [
        "df.head()"
      ],
      "execution_count": 24,
      "outputs": [
        {
          "output_type": "execute_result",
          "data": {
            "text/html": [
              "<div>\n",
              "<style scoped>\n",
              "    .dataframe tbody tr th:only-of-type {\n",
              "        vertical-align: middle;\n",
              "    }\n",
              "\n",
              "    .dataframe tbody tr th {\n",
              "        vertical-align: top;\n",
              "    }\n",
              "\n",
              "    .dataframe thead th {\n",
              "        text-align: right;\n",
              "    }\n",
              "</style>\n",
              "<table border=\"1\" class=\"dataframe\">\n",
              "  <thead>\n",
              "    <tr style=\"text-align: right;\">\n",
              "      <th></th>\n",
              "      <th>review</th>\n",
              "      <th>sentiment</th>\n",
              "    </tr>\n",
              "  </thead>\n",
              "  <tbody>\n",
              "    <tr>\n",
              "      <th>0</th>\n",
              "      <td>One of the other reviewers has mentioned that ...</td>\n",
              "      <td>1</td>\n",
              "    </tr>\n",
              "    <tr>\n",
              "      <th>1</th>\n",
              "      <td>A wonderful little production. The filming tec...</td>\n",
              "      <td>1</td>\n",
              "    </tr>\n",
              "    <tr>\n",
              "      <th>2</th>\n",
              "      <td>I thought this was a wonderful way to spend ti...</td>\n",
              "      <td>1</td>\n",
              "    </tr>\n",
              "    <tr>\n",
              "      <th>3</th>\n",
              "      <td>Basically there's a family where a little boy ...</td>\n",
              "      <td>0</td>\n",
              "    </tr>\n",
              "    <tr>\n",
              "      <th>4</th>\n",
              "      <td>Petter Mattei's \"Love in the Time of Money\" is...</td>\n",
              "      <td>1</td>\n",
              "    </tr>\n",
              "  </tbody>\n",
              "</table>\n",
              "</div>"
            ],
            "text/plain": [
              "                                              review  sentiment\n",
              "0  One of the other reviewers has mentioned that ...          1\n",
              "1  A wonderful little production. The filming tec...          1\n",
              "2  I thought this was a wonderful way to spend ti...          1\n",
              "3  Basically there's a family where a little boy ...          0\n",
              "4  Petter Mattei's \"Love in the Time of Money\" is...          1"
            ]
          },
          "metadata": {
            "tags": []
          },
          "execution_count": 24
        }
      ]
    },
    {
      "cell_type": "code",
      "metadata": {
        "id": "bNbwGJkMbGbP",
        "colab_type": "code",
        "colab": {}
      },
      "source": [
        "df.dropna(inplace=True)"
      ],
      "execution_count": 25,
      "outputs": []
    },
    {
      "cell_type": "code",
      "metadata": {
        "id": "o_Z1MErpZqH-",
        "colab_type": "code",
        "colab": {
          "base_uri": "https://localhost:8080/",
          "height": 68
        },
        "outputId": "48e32544-ab4e-473b-bfe2-3e778a3dca94"
      },
      "source": [
        "df.isnull().sum(axis = 0)"
      ],
      "execution_count": 26,
      "outputs": [
        {
          "output_type": "execute_result",
          "data": {
            "text/plain": [
              "review       0\n",
              "sentiment    0\n",
              "dtype: int64"
            ]
          },
          "metadata": {
            "tags": []
          },
          "execution_count": 26
        }
      ]
    },
    {
      "cell_type": "code",
      "metadata": {
        "id": "9PXGJMpA6ykC",
        "colab_type": "code",
        "colab": {}
      },
      "source": [
        "sentiments = df.sentiment.values\n",
        "sentences = df.review.values"
      ],
      "execution_count": 27,
      "outputs": []
    },
    {
      "cell_type": "code",
      "metadata": {
        "id": "V5BsUMJFWIwQ",
        "colab_type": "code",
        "colab": {
          "base_uri": "https://localhost:8080/",
          "height": 34
        },
        "outputId": "58cac8e8-499b-4e8d-a693-ffad68ea0342"
      },
      "source": [
        "sentiments[:10]"
      ],
      "execution_count": 28,
      "outputs": [
        {
          "output_type": "execute_result",
          "data": {
            "text/plain": [
              "array([1, 1, 1, 0, 1, 1, 1, 0, 0, 1])"
            ]
          },
          "metadata": {
            "tags": []
          },
          "execution_count": 28
        }
      ]
    },
    {
      "cell_type": "code",
      "metadata": {
        "id": "ZXYpbzYMWCCD",
        "colab_type": "code",
        "colab": {
          "base_uri": "https://localhost:8080/",
          "height": 34
        },
        "outputId": "6cfc24ba-9cd2-4d47-9d2d-a67091322b1e"
      },
      "source": [
        "df.sentiment.unique()"
      ],
      "execution_count": 29,
      "outputs": [
        {
          "output_type": "execute_result",
          "data": {
            "text/plain": [
              "array([1, 0])"
            ]
          },
          "metadata": {
            "tags": []
          },
          "execution_count": 29
        }
      ]
    },
    {
      "cell_type": "code",
      "metadata": {
        "id": "nxU_7i7eVvcI",
        "colab_type": "code",
        "colab": {
          "base_uri": "https://localhost:8080/",
          "height": 34
        },
        "outputId": "8941d4d6-ede1-4f74-e8ea-d5573b8682b6"
      },
      "source": [
        "set(sentiments)"
      ],
      "execution_count": 30,
      "outputs": [
        {
          "output_type": "execute_result",
          "data": {
            "text/plain": [
              "{0, 1}"
            ]
          },
          "metadata": {
            "tags": []
          },
          "execution_count": 30
        }
      ]
    },
    {
      "cell_type": "code",
      "metadata": {
        "id": "XI2Unlcq61aI",
        "colab_type": "code",
        "colab": {
          "base_uri": "https://localhost:8080/",
          "height": 71
        },
        "outputId": "dcc9ca67-a5a4-4905-dda2-47280d907a7f"
      },
      "source": [
        "sentiments[-1],sentences[-1]"
      ],
      "execution_count": 31,
      "outputs": [
        {
          "output_type": "execute_result",
          "data": {
            "text/plain": [
              "(0,\n",
              " \"No one expects the Star Trek movies to be high art, but the fans do expect a movie that is as good as some of the best episodes. Unfortunately, this movie had a muddled, implausible plot that just left me cringing - this is by far the worst of the nine (so far) movies. Even the chance to watch the well known characters interact in another movie can't save this movie - including the goofy scenes with Kirk, Spock and McCoy at Yosemite.I would say this movie is not worth a rental, and hardly worth watching, however for the True Fan who needs to see all the movies, renting this movie is about the only way you'll see it - even the cable channels avoid this movie.\")"
            ]
          },
          "metadata": {
            "tags": []
          },
          "execution_count": 31
        }
      ]
    },
    {
      "cell_type": "code",
      "metadata": {
        "id": "Jii-j0r864BI",
        "colab_type": "code",
        "colab": {
          "base_uri": "https://localhost:8080/",
          "height": 71
        },
        "outputId": "18d24c56-c5fa-4606-8314-b0a371e8b680"
      },
      "source": [
        "sentiments[100],sentences[100]"
      ],
      "execution_count": 32,
      "outputs": [
        {
          "output_type": "execute_result",
          "data": {
            "text/plain": [
              "(1,\n",
              " \"This short film that inspired the soon-to-be full length feature - Spatula Madness - is a hilarious piece that contends against similar cartoons yielding multiple writers. The short film stars Edward the Spatula who after being fired from his job, joins in the fight against the evil spoons. This premise allows for some funny content near the beginning, but is barely present for the remainder of the feature. This film's 15-minute running time is absorbed by some odd-ball comedy and a small musical number. Unfortunately not much else lies below it. The plot that is set up doesn't really have time to show. But it's surely follows it plot better than many high-budget Hollywood films. This film is worth watching at least a few times. Take it for what it is, and don't expect a deep story.\")"
            ]
          },
          "metadata": {
            "tags": []
          },
          "execution_count": 32
        }
      ]
    },
    {
      "cell_type": "code",
      "metadata": {
        "id": "4XU4ocV367Cn",
        "colab_type": "code",
        "colab": {}
      },
      "source": [
        "def encode_sentence_and_create_mask_segment(s):\n",
        "  tokens = tokenizer.tokenize(s.numpy())\n",
        "\n",
        "  if len(tokens) >= 511:\n",
        "    tokens = tokens[:510]\n",
        "\n",
        "  tokens = [\"[CLS]\"] + tokens + [\"[SEP]\"]\n",
        "\n",
        "  input_word_ids = [tokenizer.convert_tokens_to_ids(tokens)]\n",
        "\n",
        "  input_mask = np.ones_like(input_word_ids)\n",
        "    \n",
        "  input_segment = np.zeros_like(input_word_ids)\n",
        "\n",
        "  input_word_ids = tf.keras.preprocessing.sequence.pad_sequences(input_word_ids, maxlen=512, dtype='int32', padding='post',value=0)\n",
        "\n",
        "  input_mask = tf.keras.preprocessing.sequence.pad_sequences(input_mask, maxlen=512, dtype='int32', padding='post',value=0)\n",
        "\n",
        "  input_segment = tf.keras.preprocessing.sequence.pad_sequences(input_segment, maxlen=512, dtype='int32', padding='post',value=0)\n",
        "\n",
        "  return np.squeeze(input_word_ids), np.squeeze(input_mask), np.squeeze(input_segment)\n"
      ],
      "execution_count": 33,
      "outputs": []
    },
    {
      "cell_type": "code",
      "metadata": {
        "id": "hLkRikwh7CTF",
        "colab_type": "code",
        "colab": {}
      },
      "source": [
        "def bert_encode(sentences, sentiments):\n",
        "\n",
        "    input_word_ids, input_mask, input_segment = tf.py_function(encode_sentence_and_create_mask_segment, [sentences], [tf.int32, tf.int32, tf.int32])\n",
        "        \n",
        "    print('input ids done')\n",
        "    \n",
        "    print('input masks done')\n",
        "    \n",
        "    print('input segments done')\n",
        "    \n",
        "    inputs = {\n",
        "      'input_word_ids': input_word_ids,\n",
        "      'input_mask': input_mask,\n",
        "      'segment_ids': input_segment}\n",
        "\n",
        "    return inputs, sentiments"
      ],
      "execution_count": 34,
      "outputs": []
    },
    {
      "cell_type": "code",
      "metadata": {
        "id": "Ns1SybaFcMAD",
        "colab_type": "code",
        "colab": {}
      },
      "source": [
        "BUFFER_SIZE = len(df)\n",
        "BATCH_SIZE =8"
      ],
      "execution_count": 35,
      "outputs": []
    },
    {
      "cell_type": "code",
      "metadata": {
        "id": "uEVldd8xamnF",
        "colab_type": "code",
        "colab": {
          "base_uri": "https://localhost:8080/",
          "height": 68
        },
        "outputId": "0c358b23-7094-4985-80d3-47974f4caa29"
      },
      "source": [
        "\n",
        "dataset = tf.data.Dataset.from_tensor_slices((tf.constant(sentences), tf.constant(sentiments))).map(bert_encode, num_parallel_calls=tf.data.experimental.AUTOTUNE)\n",
        "dataset = dataset.cache()\n",
        "dataset = dataset.shuffle(BUFFER_SIZE).batch(BATCH_SIZE)\n",
        "dataset = dataset.prefetch(tf.data.experimental.AUTOTUNE)\n",
        "\n"
      ],
      "execution_count": 36,
      "outputs": [
        {
          "output_type": "stream",
          "text": [
            "input ids done\n",
            "input masks done\n",
            "input segments done\n"
          ],
          "name": "stdout"
        }
      ]
    },
    {
      "cell_type": "code",
      "metadata": {
        "id": "U_s6WBiEhFGy",
        "colab_type": "code",
        "colab": {}
      },
      "source": [
        ""
      ],
      "execution_count": 36,
      "outputs": []
    },
    {
      "cell_type": "code",
      "metadata": {
        "id": "otO-8jljcKm7",
        "colab_type": "code",
        "colab": {
          "base_uri": "https://localhost:8080/",
          "height": 449
        },
        "outputId": "bbb20077-d28c-4e19-b788-dc94f23624f8"
      },
      "source": [
        "%%time\n",
        "for x,y in dataset.take(1):\n",
        "  print(x)\n",
        "  print(y)"
      ],
      "execution_count": 37,
      "outputs": [
        {
          "output_type": "stream",
          "text": [
            "{'input_word_ids': <tf.Tensor: shape=(8, 512), dtype=int32, numpy=\n",
            "array([[  101,  1188,  1273, ...,     0,     0,     0],\n",
            "       [  101,  1790,   112, ...,     0,     0,     0],\n",
            "       [  101,  1332,  1128, ...,     0,     0,     0],\n",
            "       ...,\n",
            "       [  101,   146,  1156, ...,     0,     0,     0],\n",
            "       [  101,   146,  2426, ...,     0,     0,     0],\n",
            "       [  101, 15580,   117, ...,     0,     0,     0]], dtype=int32)>, 'input_mask': <tf.Tensor: shape=(8, 512), dtype=int32, numpy=\n",
            "array([[1, 1, 1, ..., 0, 0, 0],\n",
            "       [1, 1, 1, ..., 0, 0, 0],\n",
            "       [1, 1, 1, ..., 0, 0, 0],\n",
            "       ...,\n",
            "       [1, 1, 1, ..., 0, 0, 0],\n",
            "       [1, 1, 1, ..., 0, 0, 0],\n",
            "       [1, 1, 1, ..., 0, 0, 0]], dtype=int32)>, 'segment_ids': <tf.Tensor: shape=(8, 512), dtype=int32, numpy=\n",
            "array([[0, 0, 0, ..., 0, 0, 0],\n",
            "       [0, 0, 0, ..., 0, 0, 0],\n",
            "       [0, 0, 0, ..., 0, 0, 0],\n",
            "       ...,\n",
            "       [0, 0, 0, ..., 0, 0, 0],\n",
            "       [0, 0, 0, ..., 0, 0, 0],\n",
            "       [0, 0, 0, ..., 0, 0, 0]], dtype=int32)>}\n",
            "tf.Tensor([0 0 0 1 1 0 0 0], shape=(8,), dtype=int64)\n",
            "CPU times: user 2min 46s, sys: 4.93 s, total: 2min 51s\n",
            "Wall time: 2min 44s\n"
          ],
          "name": "stdout"
        }
      ]
    },
    {
      "cell_type": "code",
      "metadata": {
        "id": "m4Mg4r8pfdsK",
        "colab_type": "code",
        "colab": {}
      },
      "source": [
        "example_input_batch, example_target_batch = next(iter(dataset))\n"
      ],
      "execution_count": 38,
      "outputs": []
    },
    {
      "cell_type": "code",
      "metadata": {
        "id": "_9ueIOHy7OHN",
        "colab_type": "code",
        "colab": {}
      },
      "source": [
        "# import pickle\n",
        "\n",
        "# with open('inp.p', 'wb') as fp:\n",
        "#     pickle.dump(inputs, fp, protocol=pickle.HIGHEST_PROTOCOL)"
      ],
      "execution_count": 39,
      "outputs": []
    },
    {
      "cell_type": "code",
      "metadata": {
        "id": "WcWu5_7U7SHC",
        "colab_type": "code",
        "colab": {}
      },
      "source": [
        "# with open('sent.p', 'wb') as fp1:\n",
        "#     pickle.dump(senti, fp1, protocol=pickle.HIGHEST_PROTOCOL)"
      ],
      "execution_count": 40,
      "outputs": []
    },
    {
      "cell_type": "code",
      "metadata": {
        "id": "GPir7J_u7U6y",
        "colab_type": "code",
        "colab": {}
      },
      "source": [
        "# !mv /content/inp.p '/content/drive/My Drive/cp'\n",
        "# !mv /content/sent.p '/content/drive/My Drive/cp'"
      ],
      "execution_count": 41,
      "outputs": []
    },
    {
      "cell_type": "code",
      "metadata": {
        "id": "O1UULyBk7j-g",
        "colab_type": "code",
        "colab": {}
      },
      "source": [
        "# import pickle\n",
        "\n",
        "# with open('/content/drive/My Drive/cp/inp.p', 'rb') as p:\n",
        "#     inputs = pickle.load(p)\n",
        "\n",
        "# with open('/content/drive/My Drive/cp/sent.p', 'rb') as p1:\n",
        "#     sentiment = pickle.load(p1)"
      ],
      "execution_count": 42,
      "outputs": []
    },
    {
      "cell_type": "code",
      "metadata": {
        "id": "HH36kONb8oxS",
        "colab_type": "code",
        "colab": {}
      },
      "source": [
        "# sentiments = sentiment['sentiments']"
      ],
      "execution_count": 43,
      "outputs": []
    },
    {
      "cell_type": "code",
      "metadata": {
        "id": "Hri9xqojvlqp",
        "colab_type": "code",
        "colab": {}
      },
      "source": [
        "def test(tokenizer, inputs, sentiments, ind):\n",
        "  print('ids')\n",
        "  print(inputs['input_word_ids'][ind])\n",
        "  print('mask')\n",
        "  print(inputs['input_mask'][ind])\n",
        "  print('segment')\n",
        "  print(inputs['segment_ids'][ind])\n",
        "  print('words')\n",
        "  for t in inputs['input_word_ids'][ind]:\n",
        "    if t!=0:\n",
        "      print(tokenizer.convert_ids_to_tokens([t.numpy()]))\n",
        "  print('sentiment')\n",
        "  print(sentiments[ind])\n",
        "\n"
      ],
      "execution_count": 44,
      "outputs": []
    },
    {
      "cell_type": "code",
      "metadata": {
        "id": "1CRMYOcjxUNc",
        "colab_type": "code",
        "colab": {
          "base_uri": "https://localhost:8080/",
          "height": 1000
        },
        "outputId": "6e3aa142-d431-40d4-ad3c-9ce95ef769be"
      },
      "source": [
        "# test(tokenizer,inputs, sentiments, 60)\n",
        "test(tokenizer,example_input_batch, example_target_batch,-1)"
      ],
      "execution_count": 45,
      "outputs": [
        {
          "output_type": "stream",
          "text": [
            "ids\n",
            "tf.Tensor(\n",
            "[  101  8636   170  5955  1603  2801  1104  9507  2199  4035  4568  1424\n",
            "  1366  1164  1297  1107  5776   119  1636  2801  1132  9455 12821  7912\n",
            "  1105  1296  2515   170  2741  1107  1134   170  1488  1596 11147  1110\n",
            "  1767   119  1188  6653  1115  1103  1958  7801  3333  1120  1103  1269\n",
            "  1159   119  1109  1273  3471  1114   170   171  4380  1183  5152  1134\n",
            " 11323  1199  8061  1133  1103  1346  2801  1132  2385  1822  2501   119\n",
            "  1109  1273  4607  1116  1177  6166  1114  1122   119  1960  3088 13554\n",
            "  1107  2801  1115  2812  2194  7722  1104  3362  1229   170  2741  1107\n",
            "   170  2704  3114  1366   170  6020  1193  5178  5351 13498  1111  2489\n",
            "  3893   119  1109  1314  4899  1114  1117  1676  1132  1241 13870  1105\n",
            "  2232   119  1799  1103  1672  4429  1104  1266  1297  1321  1282  1107\n",
            "  5776   117  1103  6621  1132  1104   170  1704  2731 12826  1128  3333\n",
            "  1106  1686   119 26294  1104  1603  2801  1132  6034  1112 18330  1112\n",
            "   170  1363  8901  3078   118  2517  3362   119   102     0     0     0\n",
            "     0     0     0     0     0     0     0     0     0     0     0     0\n",
            "     0     0     0     0     0     0     0     0     0     0     0     0\n",
            "     0     0     0     0     0     0     0     0     0     0     0     0\n",
            "     0     0     0     0     0     0     0     0     0     0     0     0\n",
            "     0     0     0     0     0     0     0     0     0     0     0     0\n",
            "     0     0     0     0     0     0     0     0     0     0     0     0\n",
            "     0     0     0     0     0     0     0     0     0     0     0     0\n",
            "     0     0     0     0     0     0     0     0     0     0     0     0\n",
            "     0     0     0     0     0     0     0     0     0     0     0     0\n",
            "     0     0     0     0     0     0     0     0     0     0     0     0\n",
            "     0     0     0     0     0     0     0     0     0     0     0     0\n",
            "     0     0     0     0     0     0     0     0     0     0     0     0\n",
            "     0     0     0     0     0     0     0     0     0     0     0     0\n",
            "     0     0     0     0     0     0     0     0     0     0     0     0\n",
            "     0     0     0     0     0     0     0     0     0     0     0     0\n",
            "     0     0     0     0     0     0     0     0     0     0     0     0\n",
            "     0     0     0     0     0     0     0     0     0     0     0     0\n",
            "     0     0     0     0     0     0     0     0     0     0     0     0\n",
            "     0     0     0     0     0     0     0     0     0     0     0     0\n",
            "     0     0     0     0     0     0     0     0     0     0     0     0\n",
            "     0     0     0     0     0     0     0     0     0     0     0     0\n",
            "     0     0     0     0     0     0     0     0     0     0     0     0\n",
            "     0     0     0     0     0     0     0     0     0     0     0     0\n",
            "     0     0     0     0     0     0     0     0     0     0     0     0\n",
            "     0     0     0     0     0     0     0     0     0     0     0     0\n",
            "     0     0     0     0     0     0     0     0     0     0     0     0\n",
            "     0     0     0     0     0     0     0     0     0     0     0     0\n",
            "     0     0     0     0     0     0     0     0     0     0     0     0\n",
            "     0     0     0     0     0     0     0     0], shape=(512,), dtype=int32)\n",
            "mask\n",
            "tf.Tensor(\n",
            "[1 1 1 1 1 1 1 1 1 1 1 1 1 1 1 1 1 1 1 1 1 1 1 1 1 1 1 1 1 1 1 1 1 1 1 1 1\n",
            " 1 1 1 1 1 1 1 1 1 1 1 1 1 1 1 1 1 1 1 1 1 1 1 1 1 1 1 1 1 1 1 1 1 1 1 1 1\n",
            " 1 1 1 1 1 1 1 1 1 1 1 1 1 1 1 1 1 1 1 1 1 1 1 1 1 1 1 1 1 1 1 1 1 1 1 1 1\n",
            " 1 1 1 1 1 1 1 1 1 1 1 1 1 1 1 1 1 1 1 1 1 1 1 1 1 1 1 1 1 1 1 1 1 1 1 1 1\n",
            " 1 1 1 1 1 1 1 1 1 1 1 1 1 1 1 1 1 0 0 0 0 0 0 0 0 0 0 0 0 0 0 0 0 0 0 0 0\n",
            " 0 0 0 0 0 0 0 0 0 0 0 0 0 0 0 0 0 0 0 0 0 0 0 0 0 0 0 0 0 0 0 0 0 0 0 0 0\n",
            " 0 0 0 0 0 0 0 0 0 0 0 0 0 0 0 0 0 0 0 0 0 0 0 0 0 0 0 0 0 0 0 0 0 0 0 0 0\n",
            " 0 0 0 0 0 0 0 0 0 0 0 0 0 0 0 0 0 0 0 0 0 0 0 0 0 0 0 0 0 0 0 0 0 0 0 0 0\n",
            " 0 0 0 0 0 0 0 0 0 0 0 0 0 0 0 0 0 0 0 0 0 0 0 0 0 0 0 0 0 0 0 0 0 0 0 0 0\n",
            " 0 0 0 0 0 0 0 0 0 0 0 0 0 0 0 0 0 0 0 0 0 0 0 0 0 0 0 0 0 0 0 0 0 0 0 0 0\n",
            " 0 0 0 0 0 0 0 0 0 0 0 0 0 0 0 0 0 0 0 0 0 0 0 0 0 0 0 0 0 0 0 0 0 0 0 0 0\n",
            " 0 0 0 0 0 0 0 0 0 0 0 0 0 0 0 0 0 0 0 0 0 0 0 0 0 0 0 0 0 0 0 0 0 0 0 0 0\n",
            " 0 0 0 0 0 0 0 0 0 0 0 0 0 0 0 0 0 0 0 0 0 0 0 0 0 0 0 0 0 0 0 0 0 0 0 0 0\n",
            " 0 0 0 0 0 0 0 0 0 0 0 0 0 0 0 0 0 0 0 0 0 0 0 0 0 0 0 0 0 0 0], shape=(512,), dtype=int32)\n",
            "segment\n",
            "tf.Tensor(\n",
            "[0 0 0 0 0 0 0 0 0 0 0 0 0 0 0 0 0 0 0 0 0 0 0 0 0 0 0 0 0 0 0 0 0 0 0 0 0\n",
            " 0 0 0 0 0 0 0 0 0 0 0 0 0 0 0 0 0 0 0 0 0 0 0 0 0 0 0 0 0 0 0 0 0 0 0 0 0\n",
            " 0 0 0 0 0 0 0 0 0 0 0 0 0 0 0 0 0 0 0 0 0 0 0 0 0 0 0 0 0 0 0 0 0 0 0 0 0\n",
            " 0 0 0 0 0 0 0 0 0 0 0 0 0 0 0 0 0 0 0 0 0 0 0 0 0 0 0 0 0 0 0 0 0 0 0 0 0\n",
            " 0 0 0 0 0 0 0 0 0 0 0 0 0 0 0 0 0 0 0 0 0 0 0 0 0 0 0 0 0 0 0 0 0 0 0 0 0\n",
            " 0 0 0 0 0 0 0 0 0 0 0 0 0 0 0 0 0 0 0 0 0 0 0 0 0 0 0 0 0 0 0 0 0 0 0 0 0\n",
            " 0 0 0 0 0 0 0 0 0 0 0 0 0 0 0 0 0 0 0 0 0 0 0 0 0 0 0 0 0 0 0 0 0 0 0 0 0\n",
            " 0 0 0 0 0 0 0 0 0 0 0 0 0 0 0 0 0 0 0 0 0 0 0 0 0 0 0 0 0 0 0 0 0 0 0 0 0\n",
            " 0 0 0 0 0 0 0 0 0 0 0 0 0 0 0 0 0 0 0 0 0 0 0 0 0 0 0 0 0 0 0 0 0 0 0 0 0\n",
            " 0 0 0 0 0 0 0 0 0 0 0 0 0 0 0 0 0 0 0 0 0 0 0 0 0 0 0 0 0 0 0 0 0 0 0 0 0\n",
            " 0 0 0 0 0 0 0 0 0 0 0 0 0 0 0 0 0 0 0 0 0 0 0 0 0 0 0 0 0 0 0 0 0 0 0 0 0\n",
            " 0 0 0 0 0 0 0 0 0 0 0 0 0 0 0 0 0 0 0 0 0 0 0 0 0 0 0 0 0 0 0 0 0 0 0 0 0\n",
            " 0 0 0 0 0 0 0 0 0 0 0 0 0 0 0 0 0 0 0 0 0 0 0 0 0 0 0 0 0 0 0 0 0 0 0 0 0\n",
            " 0 0 0 0 0 0 0 0 0 0 0 0 0 0 0 0 0 0 0 0 0 0 0 0 0 0 0 0 0 0 0], shape=(512,), dtype=int32)\n",
            "words\n",
            "['[CLS]']\n",
            "['Half']\n",
            "['a']\n",
            "['dozen']\n",
            "['short']\n",
            "['stories']\n",
            "['of']\n",
            "['varying']\n",
            "['interest']\n",
            "['en']\n",
            "['##light']\n",
            "['##en']\n",
            "['us']\n",
            "['about']\n",
            "['life']\n",
            "['in']\n",
            "['Finland']\n",
            "['.']\n",
            "['These']\n",
            "['stories']\n",
            "['are']\n",
            "['inter']\n",
            "['##wo']\n",
            "['##ven']\n",
            "['and']\n",
            "['each']\n",
            "['contains']\n",
            "['a']\n",
            "['scene']\n",
            "['in']\n",
            "['which']\n",
            "['a']\n",
            "['son']\n",
            "['##ic']\n",
            "['boom']\n",
            "['is']\n",
            "['heard']\n",
            "['.']\n",
            "['This']\n",
            "['indicates']\n",
            "['that']\n",
            "['the']\n",
            "['events']\n",
            "['depicted']\n",
            "['happen']\n",
            "['at']\n",
            "['the']\n",
            "['same']\n",
            "['time']\n",
            "['.']\n",
            "['The']\n",
            "['film']\n",
            "['begins']\n",
            "['with']\n",
            "['a']\n",
            "['b']\n",
            "['##ung']\n",
            "['##y']\n",
            "['jump']\n",
            "['which']\n",
            "['promises']\n",
            "['some']\n",
            "['excitement']\n",
            "['but']\n",
            "['the']\n",
            "['early']\n",
            "['stories']\n",
            "['are']\n",
            "['quite']\n",
            "['low']\n",
            "['key']\n",
            "['.']\n",
            "['The']\n",
            "['film']\n",
            "['improve']\n",
            "['##s']\n",
            "['so']\n",
            "['stick']\n",
            "['with']\n",
            "['it']\n",
            "['.']\n",
            "['Two']\n",
            "['broken']\n",
            "['marriages']\n",
            "['in']\n",
            "['stories']\n",
            "['that']\n",
            "['follow']\n",
            "['provide']\n",
            "['plenty']\n",
            "['of']\n",
            "['drama']\n",
            "['while']\n",
            "['a']\n",
            "['scene']\n",
            "['in']\n",
            "['a']\n",
            "['hospital']\n",
            "['gives']\n",
            "['us']\n",
            "['a']\n",
            "['terminal']\n",
            "['##ly']\n",
            "['ill']\n",
            "['patient']\n",
            "['begging']\n",
            "['for']\n",
            "['pain']\n",
            "['relief']\n",
            "['.']\n",
            "['The']\n",
            "['last']\n",
            "['moments']\n",
            "['with']\n",
            "['his']\n",
            "['wife']\n",
            "['are']\n",
            "['both']\n",
            "['convincing']\n",
            "['and']\n",
            "['moving']\n",
            "['.']\n",
            "['While']\n",
            "['the']\n",
            "['various']\n",
            "['scenes']\n",
            "['of']\n",
            "['family']\n",
            "['life']\n",
            "['take']\n",
            "['place']\n",
            "['in']\n",
            "['Finland']\n",
            "[',']\n",
            "['the']\n",
            "['themes']\n",
            "['are']\n",
            "['of']\n",
            "['a']\n",
            "['general']\n",
            "['nature']\n",
            "['wherever']\n",
            "['you']\n",
            "['happen']\n",
            "['to']\n",
            "['live']\n",
            "['.']\n",
            "['Collections']\n",
            "['of']\n",
            "['short']\n",
            "['stories']\n",
            "['are']\n",
            "['rarely']\n",
            "['as']\n",
            "['satisfying']\n",
            "['as']\n",
            "['a']\n",
            "['good']\n",
            "['tense']\n",
            "['90']\n",
            "['-']\n",
            "['minute']\n",
            "['drama']\n",
            "['.']\n",
            "['[SEP]']\n",
            "sentiment\n",
            "tf.Tensor(1, shape=(), dtype=int64)\n"
          ],
          "name": "stdout"
        }
      ]
    },
    {
      "cell_type": "code",
      "metadata": {
        "id": "6F93lmTMubsv",
        "colab_type": "code",
        "colab": {}
      },
      "source": [
        "max_seq_length = 512  # Your choice here.\n",
        "input_word_ids = tf.keras.layers.Input(shape=(max_seq_length,), dtype=tf.int32,\n",
        "                                       name=\"input_word_ids\")\n",
        "input_mask = tf.keras.layers.Input(shape=(max_seq_length,), dtype=tf.int32,\n",
        "                                   name=\"input_mask\")\n",
        "segment_ids = tf.keras.layers.Input(shape=(max_seq_length,), dtype=tf.int32,\n",
        "                                    name=\"segment_ids\")\n",
        "bert_layer = hub.KerasLayer(\"https://tfhub.dev/tensorflow/bert_en_cased_L-12_H-768_A-12/2\",\n",
        "                            trainable=False)\n",
        "pooled_output, sequence_output = bert_layer([input_word_ids, input_mask, segment_ids])"
      ],
      "execution_count": 46,
      "outputs": []
    },
    {
      "cell_type": "code",
      "metadata": {
        "id": "8iYh-nSiuylo",
        "colab_type": "code",
        "colab": {}
      },
      "source": [
        "expand_pool = tf.keras.layers.Lambda(lambda x: tf.expand_dims(x,1))(pooled_output)\n",
        "pool_lstm1 = tf.keras.layers.Bidirectional(tf.keras.layers.LSTM(160,return_sequences=True))(expand_pool)\n",
        "pool_lstm2 = tf.keras.layers.Bidirectional(tf.keras.layers.LSTM(160))(pool_lstm1)\n",
        "# model.add(tf.keras.layers.Dense(160, activation='relu'))"
      ],
      "execution_count": 47,
      "outputs": []
    },
    {
      "cell_type": "code",
      "metadata": {
        "id": "wxEdBGPWvVug",
        "colab_type": "code",
        "colab": {}
      },
      "source": [
        "seq_lstm1 = tf.keras.layers.Bidirectional(tf.keras.layers.LSTM(160,return_sequences=True))(sequence_output)\n",
        "seq_lstm2 = tf.keras.layers.Bidirectional(tf.keras.layers.LSTM(160))(seq_lstm1)"
      ],
      "execution_count": 48,
      "outputs": []
    },
    {
      "cell_type": "code",
      "metadata": {
        "id": "dn3XtDJhvgzI",
        "colab_type": "code",
        "colab": {}
      },
      "source": [
        "concat = tf.keras.layers.concatenate([seq_lstm2,pool_lstm2])"
      ],
      "execution_count": 49,
      "outputs": []
    },
    {
      "cell_type": "code",
      "metadata": {
        "id": "JAA95fWfvzAa",
        "colab_type": "code",
        "colab": {}
      },
      "source": [
        "dense1 = tf.keras.layers.Dense(320, activation='relu')(concat)\n",
        "do1 = tf.keras.layers.Dropout(0.2)(dense1)\n",
        "dense2 = tf.keras.layers.Dense(160, activation='relu')(do1)\n",
        "do2 = tf.keras.layers.Dropout(0.2)(dense2)\n",
        "pred = tf.keras.layers.Dense(2, activation='softmax')(do2)\n",
        "\n",
        "model = Model(inputs=[input_word_ids, input_mask, segment_ids], outputs=pred)"
      ],
      "execution_count": 50,
      "outputs": []
    },
    {
      "cell_type": "code",
      "metadata": {
        "id": "2YSzCCyutvDa",
        "colab_type": "code",
        "colab": {}
      },
      "source": [
        "# last_layer = model.get_layer('keras_layer_1')\n",
        "# print('keras layer output shape: ', last_layer.output_shape)"
      ],
      "execution_count": 51,
      "outputs": []
    },
    {
      "cell_type": "code",
      "metadata": {
        "id": "aM6p4WA95cZH",
        "colab_type": "code",
        "colab": {
          "base_uri": "https://localhost:8080/",
          "height": 725
        },
        "outputId": "45f91c7f-a61b-41de-964b-7b9ff0cd0efe"
      },
      "source": [
        "model.summary()"
      ],
      "execution_count": 52,
      "outputs": [
        {
          "output_type": "stream",
          "text": [
            "Model: \"functional_1\"\n",
            "__________________________________________________________________________________________________\n",
            "Layer (type)                    Output Shape         Param #     Connected to                     \n",
            "==================================================================================================\n",
            "input_word_ids (InputLayer)     [(None, 512)]        0                                            \n",
            "__________________________________________________________________________________________________\n",
            "input_mask (InputLayer)         [(None, 512)]        0                                            \n",
            "__________________________________________________________________________________________________\n",
            "segment_ids (InputLayer)        [(None, 512)]        0                                            \n",
            "__________________________________________________________________________________________________\n",
            "keras_layer_1 (KerasLayer)      [(None, 768), (None, 108310273   input_word_ids[0][0]             \n",
            "                                                                 input_mask[0][0]                 \n",
            "                                                                 segment_ids[0][0]                \n",
            "__________________________________________________________________________________________________\n",
            "lambda (Lambda)                 (None, 1, 768)       0           keras_layer_1[0][0]              \n",
            "__________________________________________________________________________________________________\n",
            "bidirectional_2 (Bidirectional) (None, 512, 320)     1189120     keras_layer_1[0][1]              \n",
            "__________________________________________________________________________________________________\n",
            "bidirectional (Bidirectional)   (None, 1, 320)       1189120     lambda[0][0]                     \n",
            "__________________________________________________________________________________________________\n",
            "bidirectional_3 (Bidirectional) (None, 320)          615680      bidirectional_2[0][0]            \n",
            "__________________________________________________________________________________________________\n",
            "bidirectional_1 (Bidirectional) (None, 320)          615680      bidirectional[0][0]              \n",
            "__________________________________________________________________________________________________\n",
            "concatenate (Concatenate)       (None, 640)          0           bidirectional_3[0][0]            \n",
            "                                                                 bidirectional_1[0][0]            \n",
            "__________________________________________________________________________________________________\n",
            "dense (Dense)                   (None, 320)          205120      concatenate[0][0]                \n",
            "__________________________________________________________________________________________________\n",
            "dropout (Dropout)               (None, 320)          0           dense[0][0]                      \n",
            "__________________________________________________________________________________________________\n",
            "dense_1 (Dense)                 (None, 160)          51360       dropout[0][0]                    \n",
            "__________________________________________________________________________________________________\n",
            "dropout_1 (Dropout)             (None, 160)          0           dense_1[0][0]                    \n",
            "__________________________________________________________________________________________________\n",
            "dense_2 (Dense)                 (None, 2)            322         dropout_1[0][0]                  \n",
            "==================================================================================================\n",
            "Total params: 112,176,675\n",
            "Trainable params: 3,866,402\n",
            "Non-trainable params: 108,310,273\n",
            "__________________________________________________________________________________________________\n"
          ],
          "name": "stdout"
        }
      ]
    },
    {
      "cell_type": "code",
      "metadata": {
        "id": "wkvJBIQFucZ6",
        "colab_type": "code",
        "colab": {
          "base_uri": "https://localhost:8080/",
          "height": 1000
        },
        "outputId": "eb78bafb-c4e6-4dbc-a6b1-ad2d530b9230"
      },
      "source": [
        "tf.keras.utils.plot_model(model, show_shapes=True)"
      ],
      "execution_count": 53,
      "outputs": [
        {
          "output_type": "execute_result",
          "data": {
            "image/png": "[encoded data removed]",
            "text/plain": [
              "<IPython.core.display.Image object>"
            ]
          },
          "metadata": {
            "tags": []
          },
          "execution_count": 53
        }
      ]
    },
    {
      "cell_type": "code",
      "metadata": {
        "id": "jIcmn78y0ZRZ",
        "colab_type": "code",
        "colab": {}
      },
      "source": [
        "epochs = 1\n",
        "# train_data_size = len(sentiments)\n",
        "# steps_per_epoch = int(train_data_size / BATCH_SIZE)\n",
        "# num_train_steps = steps_per_epoch * epochs\n",
        "# warmup_steps = int(epochs * train_data_size * 0.1 / BATCH_SIZE)\n",
        "# optimizer = nlp.optimization.create_optimizer(\n",
        "#     2e-5, num_train_steps=num_train_steps, num_warmup_steps=warmup_steps)"
      ],
      "execution_count": 54,
      "outputs": []
    },
    {
      "cell_type": "code",
      "metadata": {
        "id": "Ja9n1ITSmkKo",
        "colab_type": "code",
        "colab": {}
      },
      "source": [
        "optimizer = tf.keras.optimizers.Adam(learning_rate=0.001)"
      ],
      "execution_count": 55,
      "outputs": []
    },
    {
      "cell_type": "code",
      "metadata": {
        "id": "Jtm0CyMP-6IB",
        "colab_type": "code",
        "colab": {
          "base_uri": "https://localhost:8080/",
          "height": 34
        },
        "outputId": "1775d378-ec65-49bf-a1bf-d26e8a07d398"
      },
      "source": [
        "type(optimizer)"
      ],
      "execution_count": 56,
      "outputs": [
        {
          "output_type": "execute_result",
          "data": {
            "text/plain": [
              "tensorflow.python.keras.optimizer_v2.adam.Adam"
            ]
          },
          "metadata": {
            "tags": []
          },
          "execution_count": 56
        }
      ]
    },
    {
      "cell_type": "code",
      "metadata": {
        "id": "r8klmNx65egV",
        "colab_type": "code",
        "colab": {}
      },
      "source": [
        "model.compile(optimizer = optimizer, \n",
        "              loss = 'sparse_categorical_crossentropy', \n",
        "              metrics = ['accuracy'])"
      ],
      "execution_count": 57,
      "outputs": []
    },
    {
      "cell_type": "code",
      "metadata": {
        "id": "_bzMfKOwumAQ",
        "colab_type": "code",
        "colab": {}
      },
      "source": [
        ""
      ],
      "execution_count": 57,
      "outputs": []
    },
    {
      "cell_type": "code",
      "metadata": {
        "id": "x0JiBN_R5qbL",
        "colab_type": "code",
        "colab": {}
      },
      "source": [
        "# from tensorflow.keras.callbacks import ModelCheckpoint\n",
        "# filepath=\"cp/sentiment_model.hdf5\"\n",
        "# checkpoint = ModelCheckpoint(filepath, monitor='loss', verbose=1, save_best_only=True, mode='min')\n",
        "\n",
        "# checkpoint = tf.keras.callbacks.experimental.BackupAndRestore(backup_dir='/content/cp')\n",
        "\n",
        "# !mkdir cp\n",
        "\n",
        "\n",
        "# callbacks_list = [checkpoint]"
      ],
      "execution_count": 58,
      "outputs": []
    },
    {
      "cell_type": "code",
      "metadata": {
        "id": "zLyx_EiQ6EBv",
        "colab_type": "code",
        "colab": {}
      },
      "source": [
        "model.load_weights('/content/sentiments_bert.hdf5')"
      ],
      "execution_count": 87,
      "outputs": []
    },
    {
      "cell_type": "code",
      "metadata": {
        "id": "Qjif8pwk52Md",
        "colab_type": "code",
        "colab": {
          "base_uri": "https://localhost:8080/",
          "height": 34
        },
        "outputId": "7a3c2bb8-a097-44e7-f646-999e17b3cca6"
      },
      "source": [
        "history = model.fit(dataset, epochs=epochs) #, callbacks=callbacks_list"
      ],
      "execution_count": 84,
      "outputs": [
        {
          "output_type": "stream",
          "text": [
            "6250/6250 [==============================] - 2724s 436ms/step - loss: 0.1722 - accuracy: 0.9353\n"
          ],
          "name": "stdout"
        }
      ]
    },
    {
      "cell_type": "code",
      "metadata": {
        "id": "ADgpHiSg-nt-",
        "colab_type": "code",
        "colab": {}
      },
      "source": [
        "!rm /content/sentiments_bert.hdf5"
      ],
      "execution_count": 85,
      "outputs": []
    },
    {
      "cell_type": "code",
      "metadata": {
        "id": "iQb6TCa0uMU2",
        "colab_type": "code",
        "colab": {}
      },
      "source": [
        "model.save_weights('sentiments_bert.hdf5')"
      ],
      "execution_count": 86,
      "outputs": []
    },
    {
      "cell_type": "code",
      "metadata": {
        "id": "46NUB6OA-pVK",
        "colab_type": "code",
        "colab": {}
      },
      "source": [
        "!rm '/content/drive/My Drive/cp/sentiments_bert.hdf5'"
      ],
      "execution_count": 92,
      "outputs": []
    },
    {
      "cell_type": "code",
      "metadata": {
        "id": "DgOoHSjS0J29",
        "colab_type": "code",
        "colab": {}
      },
      "source": [
        "!cp /content/sentiments_bert.hdf5 '/content/drive/My Drive/cp'"
      ],
      "execution_count": 93,
      "outputs": []
    },
    {
      "cell_type": "code",
      "metadata": {
        "id": "279HuhNO4JIv",
        "colab_type": "code",
        "colab": {
          "base_uri": "https://localhost:8080/",
          "height": 329
        },
        "outputId": "fa7a57ba-134f-434c-f85d-598eaa4d4da2"
      },
      "source": [
        "import matplotlib.image  as mpimg\n",
        "import matplotlib.pyplot as plt\n",
        "\n",
        "#-----------------------------------------------------------\n",
        "# Retrieve a list of list results on training and test data\n",
        "# sets for each training epoch\n",
        "#-----------------------------------------------------------\n",
        "loss=history.history['loss']\n",
        "\n",
        "\n",
        "epochs=range(len(loss)) # Get number of epochs\n",
        "\n",
        "\n",
        "#------------------------------------------------\n",
        "# Plot training  loss per epoch\n",
        "#------------------------------------------------\n",
        "plt.plot(epochs, loss, 'r')\n",
        "# plt.plot(epochs, v_loss, 'b')\n",
        "plt.title('loss')\n",
        "plt.xlabel(\"Epochs\")\n",
        "plt.ylabel(\"Loss\")\n",
        "plt.legend([\"Loss\"])\n",
        "\n",
        "plt.figure()"
      ],
      "execution_count": null,
      "outputs": [
        {
          "output_type": "execute_result",
          "data": {
            "text/plain": [
              "<Figure size 432x288 with 0 Axes>"
            ]
          },
          "metadata": {
            "tags": []
          },
          "execution_count": 70
        },
        {
          "output_type": "display_data",
          "data": {
            "image/png": "[encoded data removed]",
            "text/plain": [
              "<Figure size 432x288 with 1 Axes>"
            ]
          },
          "metadata": {
            "tags": [],
            "needs_background": "light"
          }
        },
        {
          "output_type": "display_data",
          "data": {
            "text/plain": [
              "<Figure size 432x288 with 0 Axes>"
            ]
          },
          "metadata": {
            "tags": []
          }
        }
      ]
    },
    {
      "cell_type": "code",
      "metadata": {
        "id": "HqmmItjyGoMC",
        "colab_type": "code",
        "colab": {}
      },
      "source": [
        "model.load_weights('/content/drive/My Drive/cp/sentiments_bert.hdf5')"
      ],
      "execution_count": 79,
      "outputs": []
    },
    {
      "cell_type": "code",
      "metadata": {
        "id": "0Tkofdymvgyc",
        "colab_type": "code",
        "colab": {}
      },
      "source": [
        "def predict_sentiment(text, tokenizer, max_len):\n",
        "  \n",
        "  processed_text = process_text(text)\n",
        "  tokens = list(tokenizer.tokenize(processed_text))\n",
        "\n",
        "  if len(tokens) >= 511:\n",
        "    tokens = tokens[:510]\n",
        "  tokens = [\"[CLS]\"] + tokens + [\"[SEP]\"]\n",
        "\n",
        "  print(tokens)\n",
        "  \n",
        "  encoded = tokenizer.convert_tokens_to_ids(tokens)\n",
        "\n",
        "  encoded = tf.expand_dims(encoded, axis=0)\n",
        "  \n",
        "  input_mask = tf.ones_like(encoded)\n",
        "    \n",
        "  input_segment = tf.zeros_like(encoded)\n",
        "\n",
        "  input_word_ids = tf.keras.preprocessing.sequence.pad_sequences(\n",
        "  encoded, maxlen=max_len, dtype='int32', padding='post',value=0)\n",
        "\n",
        "  input_mask = tf.keras.preprocessing.sequence.pad_sequences(\n",
        "  input_mask, maxlen=max_len, dtype='int32', padding='post',value=0)\n",
        "    \n",
        "    \n",
        "  input_segment = tf.keras.preprocessing.sequence.pad_sequences(\n",
        "  input_segment, maxlen=max_len, dtype='int32', padding='post',value=0)\n",
        "\n",
        "  inputs = {'input_word_ids': input_word_ids, 'input_mask': input_mask, 'segment_ids': input_segment}\n",
        "\n",
        "  score = model.predict(inputs)[0]\n",
        "\n",
        "  return {\"negative\": float(score[0]), \"postive\": float(score[1])} \n",
        "\n",
        "\n",
        "\n",
        "\n",
        "\n",
        "\n",
        "\n",
        "\n"
      ],
      "execution_count": 88,
      "outputs": []
    },
    {
      "cell_type": "code",
      "metadata": {
        "id": "0gYCKTVDGCVv",
        "colab_type": "code",
        "colab": {
          "base_uri": "https://localhost:8080/",
          "height": 51
        },
        "outputId": "a3109e39-6ef6-4aab-907a-70e6c7bf8e29"
      },
      "source": [
        "predict_sentiment(\"He can surely cry. I loved the movie.\", tokenizer, max_len=512)"
      ],
      "execution_count": 89,
      "outputs": [
        {
          "output_type": "stream",
          "text": [
            "['[CLS]', 'He', 'can', 'surely', 'cry', '.', 'I', 'loved', 'the', 'movie', '.', '[SEP]']\n"
          ],
          "name": "stdout"
        },
        {
          "output_type": "execute_result",
          "data": {
            "text/plain": [
              "{'negative': 0.06703341007232666, 'postive': 0.9329666495323181}"
            ]
          },
          "metadata": {
            "tags": []
          },
          "execution_count": 89
        }
      ]
    },
    {
      "cell_type": "code",
      "metadata": {
        "id": "Dh-sq8doX-wL",
        "colab_type": "code",
        "colab": {
          "base_uri": "https://localhost:8080/",
          "height": 71
        },
        "outputId": "a229a042-a014-470f-acf7-3a1331550150"
      },
      "source": [
        "predict_sentiment('Wow! The K-drama I just watched,\\'Hotel Del Luna\\',left me speechless. I  enjoyed it very much. It was sad too,Pleading face  Yeo Jin Goo can really cry, poor guy.', tokenizer, max_len=512)"
      ],
      "execution_count": 90,
      "outputs": [
        {
          "output_type": "stream",
          "text": [
            "['[CLS]', 'Wow', '!', 'The', 'K', '-', 'drama', 'I', 'just', 'watched', ',', \"'\", 'Hotel', 'Del', 'Luna', \"'\", ',', 'left', 'me', 'speech', '##less', '.', 'I', 'enjoyed', 'it', 'very', 'much', '.', 'It', 'was', 'sad', 'too', ',', 'P', '##leading', 'face', 'Ye', '##o', 'Jin', 'Go', '##o', 'can', 'really', 'cry', ',', 'poor', 'guy', '.', '[SEP]']\n"
          ],
          "name": "stdout"
        },
        {
          "output_type": "execute_result",
          "data": {
            "text/plain": [
              "{'negative': 0.04257277771830559, 'postive': 0.9574272632598877}"
            ]
          },
          "metadata": {
            "tags": []
          },
          "execution_count": 90
        }
      ]
    },
    {
      "cell_type": "code",
      "metadata": {
        "id": "pjGbyiTaLvkH",
        "colab_type": "code",
        "colab": {}
      },
      "source": [
        ""
      ],
      "execution_count": null,
      "outputs": []
    }
  ]
}