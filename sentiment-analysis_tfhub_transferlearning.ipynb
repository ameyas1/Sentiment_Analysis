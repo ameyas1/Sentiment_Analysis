{
 "cells": [
  {
   "cell_type": "code",
   "execution_count": 1,
   "metadata": {
    "_cell_guid": "b1076dfc-b9ad-4769-8c92-a6c4dae69d19",
    "_uuid": "8f2839f25d086af736a60e9eeb907d3b93b6e0e5"
   },
   "outputs": [
    {
     "name": "stdout",
     "output_type": "stream",
     "text": [
      "/kaggle/input/sentiment140/training.1600000.processed.noemoticon.csv\n"
     ]
    }
   ],
   "source": [
    "# This Python 3 environment comes with many helpful analytics libraries installed\n",
    "# It is defined by the kaggle/python docker image: https://github.com/kaggle/docker-python\n",
    "# For example, here's several helpful packages to load in \n",
    "\n",
    "import numpy as np # linear algebra\n",
    "import pandas as pd # data processing, CSV file I/O (e.g. pd.read_csv)\n",
    "\n",
    "# Input data files are available in the \"../input/\" directory.\n",
    "# For example, running this (by clicking run or pressing Shift+Enter) will list all files under the input directory\n",
    "\n",
    "import os\n",
    "for dirname, _, filenames in os.walk('/kaggle/input'):\n",
    "    for filename in filenames:\n",
    "        print(os.path.join(dirname, filename))\n",
    "\n",
    "# Any results you write to the current directory are saved as output."
   ]
  },
  {
   "cell_type": "code",
   "execution_count": 2,
   "metadata": {},
   "outputs": [],
   "source": [
    "\n",
    "import pandas as pd\n",
    "\n",
    "try:\n",
    "  # %tensorflow_version only exists in Colab.\n",
    "  %tensorflow_version 2.x\n",
    "except Exception:\n",
    "  pass\n",
    "import tensorflow as tf\n",
    "\n",
    "import matplotlib.pyplot as plt\n",
    "import matplotlib.ticker as ticker\n",
    "from sklearn.model_selection import train_test_split\n",
    "\n",
    "import tensorflow_hub as hub\n",
    "from tensorflow.keras.callbacks import ModelCheckpoint\n",
    "import re\n",
    "import numpy as np\n",
    "import os\n",
    "import io\n",
    "import time\n",
    "import math"
   ]
  },
  {
   "cell_type": "code",
   "execution_count": 3,
   "metadata": {},
   "outputs": [],
   "source": [
    "#%load_ext tensorboard"
   ]
  },
  {
   "cell_type": "code",
   "execution_count": 4,
   "metadata": {
    "_cell_guid": "79c7e3d0-c299-4dcb-8224-4455121ee9b0",
    "_uuid": "d629ff2d2480ee46fbb7e2d37f6b5fab8052498a"
   },
   "outputs": [],
   "source": [
    "df=pd.read_csv(\"/kaggle/input/sentiment140/training.1600000.processed.noemoticon.csv\", encoding='latin-1', header=None)"
   ]
  },
  {
   "cell_type": "code",
   "execution_count": 5,
   "metadata": {},
   "outputs": [
    {
     "data": {
      "text/html": [
       "<div>\n",
       "<style scoped>\n",
       "    .dataframe tbody tr th:only-of-type {\n",
       "        vertical-align: middle;\n",
       "    }\n",
       "\n",
       "    .dataframe tbody tr th {\n",
       "        vertical-align: top;\n",
       "    }\n",
       "\n",
       "    .dataframe thead th {\n",
       "        text-align: right;\n",
       "    }\n",
       "</style>\n",
       "<table border=\"1\" class=\"dataframe\">\n",
       "  <thead>\n",
       "    <tr style=\"text-align: right;\">\n",
       "      <th></th>\n",
       "      <th>0</th>\n",
       "      <th>1</th>\n",
       "      <th>2</th>\n",
       "      <th>3</th>\n",
       "      <th>4</th>\n",
       "      <th>5</th>\n",
       "    </tr>\n",
       "  </thead>\n",
       "  <tbody>\n",
       "    <tr>\n",
       "      <th>0</th>\n",
       "      <td>0</td>\n",
       "      <td>1467810369</td>\n",
       "      <td>Mon Apr 06 22:19:45 PDT 2009</td>\n",
       "      <td>NO_QUERY</td>\n",
       "      <td>_TheSpecialOne_</td>\n",
       "      <td>@switchfoot http://twitpic.com/2y1zl - Awww, t...</td>\n",
       "    </tr>\n",
       "    <tr>\n",
       "      <th>1</th>\n",
       "      <td>0</td>\n",
       "      <td>1467810672</td>\n",
       "      <td>Mon Apr 06 22:19:49 PDT 2009</td>\n",
       "      <td>NO_QUERY</td>\n",
       "      <td>scotthamilton</td>\n",
       "      <td>is upset that he can't update his Facebook by ...</td>\n",
       "    </tr>\n",
       "    <tr>\n",
       "      <th>2</th>\n",
       "      <td>0</td>\n",
       "      <td>1467810917</td>\n",
       "      <td>Mon Apr 06 22:19:53 PDT 2009</td>\n",
       "      <td>NO_QUERY</td>\n",
       "      <td>mattycus</td>\n",
       "      <td>@Kenichan I dived many times for the ball. Man...</td>\n",
       "    </tr>\n",
       "    <tr>\n",
       "      <th>3</th>\n",
       "      <td>0</td>\n",
       "      <td>1467811184</td>\n",
       "      <td>Mon Apr 06 22:19:57 PDT 2009</td>\n",
       "      <td>NO_QUERY</td>\n",
       "      <td>ElleCTF</td>\n",
       "      <td>my whole body feels itchy and like its on fire</td>\n",
       "    </tr>\n",
       "    <tr>\n",
       "      <th>4</th>\n",
       "      <td>0</td>\n",
       "      <td>1467811193</td>\n",
       "      <td>Mon Apr 06 22:19:57 PDT 2009</td>\n",
       "      <td>NO_QUERY</td>\n",
       "      <td>Karoli</td>\n",
       "      <td>@nationwideclass no, it's not behaving at all....</td>\n",
       "    </tr>\n",
       "  </tbody>\n",
       "</table>\n",
       "</div>"
      ],
      "text/plain": [
       "   0           1                             2         3                4  \\\n",
       "0  0  1467810369  Mon Apr 06 22:19:45 PDT 2009  NO_QUERY  _TheSpecialOne_   \n",
       "1  0  1467810672  Mon Apr 06 22:19:49 PDT 2009  NO_QUERY    scotthamilton   \n",
       "2  0  1467810917  Mon Apr 06 22:19:53 PDT 2009  NO_QUERY         mattycus   \n",
       "3  0  1467811184  Mon Apr 06 22:19:57 PDT 2009  NO_QUERY          ElleCTF   \n",
       "4  0  1467811193  Mon Apr 06 22:19:57 PDT 2009  NO_QUERY           Karoli   \n",
       "\n",
       "                                                   5  \n",
       "0  @switchfoot http://twitpic.com/2y1zl - Awww, t...  \n",
       "1  is upset that he can't update his Facebook by ...  \n",
       "2  @Kenichan I dived many times for the ball. Man...  \n",
       "3    my whole body feels itchy and like its on fire   \n",
       "4  @nationwideclass no, it's not behaving at all....  "
      ]
     },
     "execution_count": 5,
     "metadata": {},
     "output_type": "execute_result"
    }
   ],
   "source": [
    "df.head()"
   ]
  },
  {
   "cell_type": "code",
   "execution_count": 6,
   "metadata": {},
   "outputs": [],
   "source": [
    "sentiments=df[0].values\n",
    "sentences=df[5].values"
   ]
  },
  {
   "cell_type": "code",
   "execution_count": 7,
   "metadata": {},
   "outputs": [],
   "source": [
    "sentiments[sentiments==4]=1"
   ]
  },
  {
   "cell_type": "code",
   "execution_count": 8,
   "metadata": {},
   "outputs": [
    {
     "data": {
      "text/plain": [
       "(0,\n",
       " \"is upset that he can't update his Facebook by texting it... and might cry as a result  School today also. Blah!\")"
      ]
     },
     "execution_count": 8,
     "metadata": {},
     "output_type": "execute_result"
    }
   ],
   "source": [
    "sentiments[1],sentences[1]"
   ]
  },
  {
   "cell_type": "code",
   "execution_count": 9,
   "metadata": {},
   "outputs": [],
   "source": [
    "total=len(df)"
   ]
  },
  {
   "cell_type": "code",
   "execution_count": 10,
   "metadata": {},
   "outputs": [],
   "source": [
    "split=int(0.95*total)"
   ]
  },
  {
   "cell_type": "code",
   "execution_count": 11,
   "metadata": {},
   "outputs": [
    {
     "data": {
      "text/plain": [
       "1520000"
      ]
     },
     "execution_count": 11,
     "metadata": {},
     "output_type": "execute_result"
    }
   ],
   "source": [
    "split"
   ]
  },
  {
   "cell_type": "code",
   "execution_count": 12,
   "metadata": {},
   "outputs": [],
   "source": [
    "test_sentiments=sentiments[split:]\n",
    "test_sentences=sentences[split:]"
   ]
  },
  {
   "cell_type": "code",
   "execution_count": 13,
   "metadata": {},
   "outputs": [],
   "source": [
    "# def preprocess(sentence,sentiment):\n",
    "# #     sentence = tf.strings.lower(sentence)\n",
    "# #     sentence = tf.strings.regex_replace(sentence,'[^a-zA-Z0-9?.!,\\'\\\"]',' ')\n",
    "# #     words_list = tf.strings.split(sentence)\n",
    "# #     sentence = tf.strings.reduce_join(words_list,separator=\" \", axis=-1)\n",
    "#     sentiment = tf.one_hot(sentiment, 2)\n",
    "    \n",
    "#     return sentence, sentiment\n",
    "    \n",
    "    "
   ]
  },
  {
   "cell_type": "code",
   "execution_count": 14,
   "metadata": {},
   "outputs": [],
   "source": [
    "batch_size=2000\n",
    "train = tf.data.Dataset.from_tensor_slices((tf.constant(sentences),tf.constant(sentiments)))\n",
    "# train = train.map(preprocess, num_parallel_calls=tf.data.experimental.AUTOTUNE)\n",
    "train = train.cache().shuffle(total)\n",
    "train = train.batch(batch_size).prefetch(buffer_size=tf.data.experimental.AUTOTUNE)"
   ]
  },
  {
   "cell_type": "code",
   "execution_count": 15,
   "metadata": {},
   "outputs": [
    {
     "data": {
      "text/plain": [
       "(<tf.Tensor: shape=(), dtype=string, numpy=b'@iFrankM my sister and I were about to head over to Yard House but they have 0 free tables '>,\n",
       " <tf.Tensor: shape=(), dtype=int64, numpy=0>)"
      ]
     },
     "execution_count": 15,
     "metadata": {},
     "output_type": "execute_result"
    }
   ],
   "source": [
    "example_input_batch, example_target_batch = next(iter(train))\n",
    "example_input_batch[-1], example_target_batch[-1]"
   ]
  },
  {
   "cell_type": "code",
   "execution_count": 16,
   "metadata": {},
   "outputs": [
    {
     "data": {
      "text/plain": [
       "(<tf.Tensor: shape=(), dtype=string, numpy=b\"@mjh81 lols  didn't wanna watch it really . . . Lmao!\">,\n",
       " <tf.Tensor: shape=(), dtype=int64, numpy=1>)"
      ]
     },
     "execution_count": 16,
     "metadata": {},
     "output_type": "execute_result"
    }
   ],
   "source": [
    "example_input_batch[0], example_target_batch[0]"
   ]
  },
  {
   "cell_type": "code",
   "execution_count": 17,
   "metadata": {},
   "outputs": [],
   "source": [
    "batch_size=1000\n",
    "test = tf.data.Dataset.from_tensor_slices((tf.constant(test_sentences),tf.constant(test_sentiments)))\n",
    "# test = test.map(preprocess, num_parallel_calls=tf.data.experimental.AUTOTUNE)\n",
    "test = test.cache().shuffle(len(test_sentences))\n",
    "test = test.batch(batch_size)"
   ]
  },
  {
   "cell_type": "code",
   "execution_count": 18,
   "metadata": {},
   "outputs": [],
   "source": [
    "hub_layer = hub.KerasLayer(\"https://tfhub.dev/google/tf2-preview/nnlm-en-dim128-with-normalization/1\", output_shape=[128],\n",
    "                           input_shape=[], dtype=tf.string, trainable=True)"
   ]
  },
  {
   "cell_type": "code",
   "execution_count": 19,
   "metadata": {},
   "outputs": [],
   "source": [
    "model = tf.keras.Sequential()\n",
    "model.add(hub_layer)\n",
    "model.add(tf.keras.layers.Lambda(lambda x: tf.expand_dims(x,1)))\n",
    "model.add(tf.keras.layers.Bidirectional(tf.keras.layers.LSTM(160,return_sequences=True)))\n",
    "model.add(tf.keras.layers.Bidirectional(tf.keras.layers.LSTM(160)))\n",
    "model.add(tf.keras.layers.Dense(160, activation='relu'))\n",
    "model.add(tf.keras.layers.Dropout(0.2))\n",
    "model.add(tf.keras.layers.Dense(30, activation='relu'))\n",
    "model.add(tf.keras.layers.Dropout(0.2))\n",
    "model.add(tf.keras.layers.Dense(2, activation='softmax'))"
   ]
  },
  {
   "cell_type": "code",
   "execution_count": 20,
   "metadata": {},
   "outputs": [
    {
     "name": "stdout",
     "output_type": "stream",
     "text": [
      "Model: \"sequential\"\n",
      "_________________________________________________________________\n",
      "Layer (type)                 Output Shape              Param #   \n",
      "=================================================================\n",
      "keras_layer (KerasLayer)     (None, 128)               124642688 \n",
      "_________________________________________________________________\n",
      "lambda (Lambda)              (None, 1, 128)            0         \n",
      "_________________________________________________________________\n",
      "bidirectional (Bidirectional (None, 1, 320)            369920    \n",
      "_________________________________________________________________\n",
      "bidirectional_1 (Bidirection (None, 320)               615680    \n",
      "_________________________________________________________________\n",
      "dense (Dense)                (None, 160)               51360     \n",
      "_________________________________________________________________\n",
      "dropout (Dropout)            (None, 160)               0         \n",
      "_________________________________________________________________\n",
      "dense_1 (Dense)              (None, 30)                4830      \n",
      "_________________________________________________________________\n",
      "dropout_1 (Dropout)          (None, 30)                0         \n",
      "_________________________________________________________________\n",
      "dense_2 (Dense)              (None, 2)                 62        \n",
      "=================================================================\n",
      "Total params: 125,684,540\n",
      "Trainable params: 125,684,540\n",
      "Non-trainable params: 0\n",
      "_________________________________________________________________\n"
     ]
    }
   ],
   "source": [
    "model.summary()"
   ]
  },
  {
   "cell_type": "code",
   "execution_count": 21,
   "metadata": {},
   "outputs": [],
   "source": [
    "model.compile(optimizer = tf.optimizers.Adam(learning_rate=0.001), \n",
    "              loss = 'sparse_categorical_crossentropy', \n",
    "              metrics = ['accuracy'])"
   ]
  },
  {
   "cell_type": "code",
   "execution_count": 22,
   "metadata": {},
   "outputs": [],
   "source": [
    "# import datetime\n",
    "\n",
    "filepath=\"cp/sentiment_model.hdf5\"\n",
    "checkpoint = ModelCheckpoint(filepath, monitor='val_loss', verbose=1, save_best_only=True, mode='min')\n",
    "# callbacks_list = [checkpoint]\n",
    "!mkdir cp\n",
    "\n",
    "\n",
    "\n",
    "# log_dir='logs/fit/'+ datetime.datetime.now().strftime('%Y%m%d-%H%M%S')\n",
    "\n",
    "# tb=tf.keras.callbacks.TensorBoard(log_dir=log_dir,histogram_freq=1)\n",
    "\n",
    "callbacks_list = [checkpoint]"
   ]
  },
  {
   "cell_type": "code",
   "execution_count": 23,
   "metadata": {},
   "outputs": [],
   "source": [
    "# !mkdir logs\n",
    "# !mkdir logs/fit/"
   ]
  },
  {
   "cell_type": "code",
   "execution_count": 24,
   "metadata": {},
   "outputs": [],
   "source": [
    "# %tensorboard --logdir logs/fit"
   ]
  },
  {
   "cell_type": "code",
   "execution_count": 25,
   "metadata": {},
   "outputs": [
    {
     "name": "stdout",
     "output_type": "stream",
     "text": [
      "Train for 800 steps, validate for 80 steps\n",
      "Epoch 1/120\n",
      "799/800 [============================>.] - ETA: 0s - loss: 0.4435 - accuracy: 0.7940\n",
      "Epoch 00001: val_loss improved from inf to 0.40717, saving model to cp/sentiment_model.hdf5\n",
      "800/800 [==============================] - 61s 76ms/step - loss: 0.4435 - accuracy: 0.7940 - val_loss: 0.4072 - val_accuracy: 0.7922\n",
      "Epoch 2/120\n",
      "799/800 [============================>.] - ETA: 0s - loss: 0.3987 - accuracy: 0.8180\n",
      "Epoch 00002: val_loss improved from 0.40717 to 0.39342, saving model to cp/sentiment_model.hdf5\n",
      "800/800 [==============================] - 52s 65ms/step - loss: 0.3987 - accuracy: 0.8180 - val_loss: 0.3934 - val_accuracy: 0.8027\n",
      "Epoch 3/120\n",
      "799/800 [============================>.] - ETA: 0s - loss: 0.3699 - accuracy: 0.8328\n",
      "Epoch 00003: val_loss improved from 0.39342 to 0.35056, saving model to cp/sentiment_model.hdf5\n",
      "800/800 [==============================] - 52s 65ms/step - loss: 0.3699 - accuracy: 0.8328 - val_loss: 0.3506 - val_accuracy: 0.8368\n",
      "Epoch 4/120\n",
      "799/800 [============================>.] - ETA: 0s - loss: 0.3396 - accuracy: 0.8484\n",
      "Epoch 00004: val_loss improved from 0.35056 to 0.32087, saving model to cp/sentiment_model.hdf5\n",
      "800/800 [==============================] - 51s 64ms/step - loss: 0.3396 - accuracy: 0.8484 - val_loss: 0.3209 - val_accuracy: 0.8509\n",
      "Epoch 5/120\n",
      "799/800 [============================>.] - ETA: 0s - loss: 0.3090 - accuracy: 0.8639\n",
      "Epoch 00005: val_loss improved from 0.32087 to 0.27086, saving model to cp/sentiment_model.hdf5\n",
      "800/800 [==============================] - 51s 64ms/step - loss: 0.3091 - accuracy: 0.8639 - val_loss: 0.2709 - val_accuracy: 0.8786\n",
      "Epoch 6/120\n",
      "799/800 [============================>.] - ETA: 0s - loss: 0.2797 - accuracy: 0.8782\n",
      "Epoch 00006: val_loss improved from 0.27086 to 0.26768, saving model to cp/sentiment_model.hdf5\n",
      "800/800 [==============================] - 50s 63ms/step - loss: 0.2797 - accuracy: 0.8782 - val_loss: 0.2677 - val_accuracy: 0.8767\n",
      "Epoch 7/120\n",
      "799/800 [============================>.] - ETA: 0s - loss: 0.2066 - accuracy: 0.9120\n",
      "Epoch 00009: val_loss improved from 0.21142 to 0.20814, saving model to cp/sentiment_model.hdf5\n",
      "800/800 [==============================] - 50s 63ms/step - loss: 0.2066 - accuracy: 0.9120 - val_loss: 0.2081 - val_accuracy: 0.9032\n",
      "Epoch 10/120\n",
      "799/800 [============================>.] - ETA: 0s - loss: 0.1881 - accuracy: 0.9205\n",
      "Epoch 00010: val_loss improved from 0.20814 to 0.17308, saving model to cp/sentiment_model.hdf5\n",
      "800/800 [==============================] - 56s 70ms/step - loss: 0.1881 - accuracy: 0.9205 - val_loss: 0.1731 - val_accuracy: 0.9208\n",
      "Epoch 11/120\n",
      "798/800 [============================>.] - ETA: 0s - loss: 0.1722 - accuracy: 0.9275\n",
      "Epoch 00011: val_loss improved from 0.17308 to 0.16038, saving model to cp/sentiment_model.hdf5\n",
      "800/800 [==============================] - 50s 62ms/step - loss: 0.1722 - accuracy: 0.9275 - val_loss: 0.1604 - val_accuracy: 0.9263\n",
      "Epoch 12/120\n",
      "799/800 [============================>.] - ETA: 0s - loss: 0.1580 - accuracy: 0.9337\n",
      "Epoch 00012: val_loss improved from 0.16038 to 0.15874, saving model to cp/sentiment_model.hdf5\n",
      "800/800 [==============================] - 54s 68ms/step - loss: 0.1580 - accuracy: 0.9337 - val_loss: 0.1587 - val_accuracy: 0.9293\n",
      "Epoch 13/120\n",
      "798/800 [============================>.] - ETA: 0s - loss: 0.1458 - accuracy: 0.9390\n",
      "Epoch 00013: val_loss improved from 0.15874 to 0.13534, saving model to cp/sentiment_model.hdf5\n",
      "800/800 [==============================] - 49s 61ms/step - loss: 0.1458 - accuracy: 0.9390 - val_loss: 0.1353 - val_accuracy: 0.9377\n",
      "Epoch 14/120\n",
      "798/800 [============================>.] - ETA: 0s - loss: 0.1348 - accuracy: 0.9436\n",
      "Epoch 00014: val_loss improved from 0.13534 to 0.12695, saving model to cp/sentiment_model.hdf5\n",
      "800/800 [==============================] - 50s 63ms/step - loss: 0.1348 - accuracy: 0.9436 - val_loss: 0.1269 - val_accuracy: 0.9419\n",
      "Epoch 15/120\n",
      "799/800 [============================>.] - ETA: 0s - loss: 0.1249 - accuracy: 0.9478\n",
      "Epoch 00015: val_loss improved from 0.12695 to 0.11472, saving model to cp/sentiment_model.hdf5\n",
      "800/800 [==============================] - 51s 64ms/step - loss: 0.1249 - accuracy: 0.9478 - val_loss: 0.1147 - val_accuracy: 0.9477\n",
      "Epoch 16/120\n",
      "799/800 [============================>.] - ETA: 0s - loss: 0.1159 - accuracy: 0.9516\n",
      "Epoch 00016: val_loss did not improve from 0.11472\n",
      "800/800 [==============================] - 48s 60ms/step - loss: 0.1159 - accuracy: 0.9516 - val_loss: 0.1172 - val_accuracy: 0.9448\n",
      "Epoch 17/120\n",
      "799/800 [============================>.] - ETA: 0s - loss: 0.1079 - accuracy: 0.9548\n",
      "Epoch 00017: val_loss improved from 0.11472 to 0.09546, saving model to cp/sentiment_model.hdf5\n",
      "800/800 [==============================] - 51s 63ms/step - loss: 0.1079 - accuracy: 0.9548 - val_loss: 0.0955 - val_accuracy: 0.9548\n",
      "Epoch 18/120\n",
      "799/800 [============================>.] - ETA: 0s - loss: 0.1003 - accuracy: 0.9579\n",
      "Epoch 00018: val_loss did not improve from 0.09546\n",
      "800/800 [==============================] - 48s 60ms/step - loss: 0.1003 - accuracy: 0.9579 - val_loss: 0.0959 - val_accuracy: 0.9583\n",
      "Epoch 19/120\n",
      "799/800 [============================>.] - ETA: 0s - loss: 0.0935 - accuracy: 0.9608\n",
      "Epoch 00019: val_loss improved from 0.09546 to 0.09358, saving model to cp/sentiment_model.hdf5\n",
      "800/800 [==============================] - 50s 63ms/step - loss: 0.0935 - accuracy: 0.9607 - val_loss: 0.0936 - val_accuracy: 0.9582\n",
      "Epoch 20/120\n",
      "800/800 [==============================] - 49s 62ms/step - loss: 0.0114 - accuracy: 0.9952 - val_loss: 0.0086 - val_accuracy: 0.9947\n",
      "Epoch 70/120\n",
      "798/800 [============================>.] - ETA: 0s - loss: 0.0095 - accuracy: 0.9959\n",
      "Epoch 00080: val_loss did not improve from 0.00782\n",
      "800/800 [==============================] - 46s 58ms/step - loss: 0.0095 - accuracy: 0.9959 - val_loss: 0.0080 - val_accuracy: 0.9951\n",
      "Epoch 81/120\n",
      "798/800 [============================>.] - ETA: 0s - loss: 0.0084 - accuracy: 0.9963\n",
      "Epoch 00090: val_loss did not improve from 0.00695\n",
      "800/800 [==============================] - 52s 65ms/step - loss: 0.0084 - accuracy: 0.9963 - val_loss: 0.0073 - val_accuracy: 0.9955\n",
      "Epoch 91/120\n",
      "798/800 [============================>.] - ETA: 0s - loss: 0.0076 - accuracy: 0.9965\n",
      "Epoch 00101: val_loss did not improve from 0.00604\n",
      "800/800 [==============================] - 45s 57ms/step - loss: 0.0076 - accuracy: 0.9965 - val_loss: 0.0075 - val_accuracy: 0.9953\n",
      "Epoch 102/120\n",
      "798/800 [============================>.] - ETA: 0s - loss: 0.0075 - accuracy: 0.9966\n",
      "Epoch 00102: val_loss did not improve from 0.00604\n",
      "800/800 [==============================] - 45s 56ms/step - loss: 0.0075 - accuracy: 0.9966 - val_loss: 0.0070 - val_accuracy: 0.9957\n",
      "Epoch 103/120\n",
      "798/800 [============================>.] - ETA: 0s - loss: 0.0075 - accuracy: 0.9966\n",
      "Epoch 00103: val_loss did not improve from 0.00604\n",
      "800/800 [==============================] - 51s 64ms/step - loss: 0.0075 - accuracy: 0.9966 - val_loss: 0.0063 - val_accuracy: 0.9957\n",
      "Epoch 104/120\n",
      "799/800 [============================>.] - ETA: 0s - loss: 0.0073 - accuracy: 0.9966\n",
      "Epoch 00104: val_loss improved from 0.00604 to 0.00602, saving model to cp/sentiment_model.hdf5\n",
      "800/800 [==============================] - 49s 61ms/step - loss: 0.0073 - accuracy: 0.9966 - val_loss: 0.0060 - val_accuracy: 0.9959\n",
      "Epoch 105/120\n",
      "533/800 [==================>...........] - ETA: 15s - loss: 0.0066 - accuracy: 0.9969"
     ]
    }
   ],
   "source": [
    "history = model.fit(train, epochs=120,validation_data=test, callbacks=callbacks_list)"
   ]
  },
  {
   "cell_type": "code",
   "execution_count": 26,
   "metadata": {},
   "outputs": [],
   "source": [
    "model.load_weights(\"cp/sentiment_model.hdf5\")"
   ]
  },
  {
   "cell_type": "code",
   "execution_count": 27,
   "metadata": {},
   "outputs": [
    {
     "data": {
      "text/plain": [
       "<Figure size 432x288 with 0 Axes>"
      ]
     },
     "execution_count": 27,
     "metadata": {},
     "output_type": "execute_result"
    },
    {
     "data": {
      "image/png": "[encoded data removed]",
      "text/plain": [
       "<Figure size 432x288 with 1 Axes>"
      ]
     },
     "metadata": {
      "needs_background": "light"
     },
     "output_type": "display_data"
    },
    {
     "data": {
      "text/plain": [
       "<Figure size 432x288 with 0 Axes>"
      ]
     },
     "metadata": {},
     "output_type": "display_data"
    }
   ],
   "source": [
    "\n",
    "import matplotlib.image  as mpimg\n",
    "import matplotlib.pyplot as plt\n",
    "\n",
    "#-----------------------------------------------------------\n",
    "# Retrieve a list of list results on training and test data\n",
    "# sets for each training epoch\n",
    "#-----------------------------------------------------------\n",
    "loss=history.history['loss']\n",
    "v_loss=history.history['val_loss']\n",
    "\n",
    "\n",
    "epochs=range(len(loss)) # Get number of epochs\n",
    "\n",
    "\n",
    "#------------------------------------------------\n",
    "# Plot training and validation loss per epoch\n",
    "#------------------------------------------------\n",
    "plt.plot(epochs, loss, 'r')\n",
    "plt.plot(epochs, v_loss, 'b')\n",
    "plt.title('loss')\n",
    "plt.xlabel(\"Epochs\")\n",
    "plt.ylabel(\"Loss\")\n",
    "plt.legend([\"Loss\"])\n",
    "\n",
    "plt.figure()"
   ]
  },
  {
   "cell_type": "code",
   "execution_count": 28,
   "metadata": {},
   "outputs": [],
   "source": [
    "def predict(text):\n",
    "    start_at = time.time()\n",
    "    \n",
    "    score = model.predict([text])[0]\n",
    "\n",
    "    return {\"negative\": float(score[0]), \"postive\": float(score[1]),\n",
    "       \"elapsed_time\": time.time()-start_at}  "
   ]
  },
  {
   "cell_type": "code",
   "execution_count": 29,
   "metadata": {},
   "outputs": [
    {
     "data": {
      "text/plain": [
       "{'negative': 1.0,\n",
       " 'postive': 1.2868395585230452e-12,\n",
       " 'elapsed_time': 1.1083214282989502}"
      ]
     },
     "execution_count": 29,
     "metadata": {},
     "output_type": "execute_result"
    }
   ],
   "source": [
    "predict(\"the product made my skin glow but it had severe side effects\")"
   ]
  },
  {
   "cell_type": "code",
   "execution_count": 30,
   "metadata": {},
   "outputs": [
    {
     "data": {
      "text/plain": [
       "{'negative': 4.458362845571884e-11,\n",
       " 'postive': 1.0,\n",
       " 'elapsed_time': 0.031017780303955078}"
      ]
     },
     "execution_count": 30,
     "metadata": {},
     "output_type": "execute_result"
    }
   ],
   "source": [
    "predict(\"Blackpink is the greatest girl band ever.\")"
   ]
  }
 ],
 "metadata": {
  "kernelspec": {
   "display_name": "Python 3",
   "language": "python",
   "name": "python3"
  },
  "language_info": {
   "codemirror_mode": {
    "name": "ipython",
    "version": 3
   },
   "file_extension": ".py",
   "mimetype": "text/x-python",
   "name": "python",
   "nbconvert_exporter": "python",
   "pygments_lexer": "ipython3",
   "version": "3.6.6"
  }
 },
 "nbformat": 4,
 "nbformat_minor": 4
}
